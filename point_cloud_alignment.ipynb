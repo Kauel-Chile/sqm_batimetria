{
 "cells": [
  {
   "cell_type": "code",
   "execution_count": 1,
   "metadata": {},
   "outputs": [
    {
     "name": "stdout",
     "output_type": "stream",
     "text": [
      "Jupyter environment detected. Enabling Open3D WebVisualizer.\n",
      "[Open3D INFO] WebRTC GUI backend enabled.\n",
      "[Open3D INFO] WebRTCWindowSystem: HTTP handshake server disabled.\n"
     ]
    }
   ],
   "source": [
    "import os\n",
    "import copy\n",
    "import numpy as np\n",
    "import laspy as lp\n",
    "import open3d as o3d\n",
    "\n",
    "def to_open3d(points):\n",
    "    pcd = o3d.geometry.PointCloud()\n",
    "    pcd.points = o3d.utility.Vector3dVector(points)\n",
    "    return pcd\n",
    "\n",
    "def las_to_open3d(las_source_path, target_path):\n",
    "    las = lp.read(las_source_path)\n",
    "    points = np.vstack((las.x, las.y, las.z)).transpose()\n",
    "    pcd = to_open3d(points)\n",
    "    o3d.io.write_point_cloud(target_path, pcd)\n",
    "\n",
    "# def draw_registration_result(source, target, transformation):\n",
    "#     source_temp = copy.deepcopy(source)\n",
    "#     target_temp = copy.deepcopy(target)\n",
    "#     source_temp.paint_uniform_color([1, 0.706, 0])\n",
    "#     target_temp.paint_uniform_color([0, 0.651, 0.929])\n",
    "#     source_temp.transform(transformation)\n",
    "#     o3d.visualization.draw_geometries([source_temp, target_temp])\n",
    "\n",
    "def get_ground_points(las_source_path, salmuera):\n",
    "    las = lp.read(las_source_path)\n",
    "    points = np.vstack((las.x, las.y, las.z)).transpose()\n",
    "    data_points = np.hstack((points,\n",
    "                        np.expand_dims(las.return_number, -1),\n",
    "                        np.expand_dims(las.number_of_returns, -1)))\n",
    "    one_return = data_points[(data_points[:, -1] == 1)][:, :3]\n",
    "    return one_return[one_return[:,2] > salmuera] \n"
   ]
  },
  {
   "cell_type": "code",
   "execution_count": 2,
   "metadata": {},
   "outputs": [],
   "source": [
    "salmueras = {\n",
    "    'km11': 2300.866,\n",
    "    'km12': 2300.582,\n",
    "    'km13': 2300.647,\n",
    "    'pam2': 2302.185,\n",
    "    '2a': 2301.129,\n",
    "    '3a': 2300.978\n",
    "}\n",
    "\n",
    "POZA = 'km11'\n",
    "THRESHOLD = 0.02\n",
    "SALMUERA = salmueras.get(POZA, None)\n",
    "TRANS_INIT = np.asarray([[1.0, 0.0, 0.0, 0.0], \n",
    "                         [0.0, 1.0, 0.0, 0.0],\n",
    "                         [0.0, 0.0, 1.0, 0.0], \n",
    "                         [0.0, 0.0, 0.0, 1.0]])"
   ]
  },
  {
   "cell_type": "code",
   "execution_count": 3,
   "metadata": {},
   "outputs": [],
   "source": [
    "source_path = 'data/vuelos_marzos/29032025/con talud/100m_10ms_100khz_plena_luz/km11_sectora_100m_10ms_100khz_plena_luz_0_0.las'\n",
    "target_path = 'data/vuelos_marzos/29032025/con talud/100m_10ms_100khz_madrugada/km11_sectora_100m_10ms_100khz_madrugada_0_0.las'\n",
    "pcd_source_path = source_path.replace('.las', '.pcd')\n",
    "pcd_target_path = target_path.replace('.las', '.pcd')"
   ]
  },
  {
   "cell_type": "code",
   "execution_count": 4,
   "metadata": {},
   "outputs": [
    {
     "name": "stdout",
     "output_type": "stream",
     "text": [
      "Apply point-to-plane ICP\n",
      "RegistrationResult with fitness=1.437873e-03, inlier_rmse=1.527831e-02, and correspondence_set size of 2439\n",
      "Access transformation to get result.\n",
      "Transformation is:\n",
      "[[ 9.99999995e-01  2.78394492e-05  9.25432653e-05 -2.06301841e+02]\n",
      " [-2.78337248e-05  9.99999998e-01 -6.18567743e-05  1.58850666e+01]\n",
      " [-9.25449871e-05  6.18541982e-05  9.99999994e-01 -4.05631368e+02]\n",
      " [ 0.00000000e+00  0.00000000e+00  0.00000000e+00  1.00000000e+00]]\n"
     ]
    }
   ],
   "source": [
    "src_ground_points = get_ground_points(source_path, SALMUERA)\n",
    "pcd_src_ground_points = to_open3d(src_ground_points)\n",
    "\n",
    "dst_ground_points = get_ground_points(target_path, SALMUERA)\n",
    "pcd_dst_ground_points = to_open3d(dst_ground_points)\n",
    "\n",
    "pcd_src_ground_points.estimate_normals()\n",
    "pcd_dst_ground_points.estimate_normals()\n",
    "\n",
    "print(\"Apply point-to-plane ICP\")\n",
    "reg_p2l = o3d.pipelines.registration.registration_icp(\n",
    "            pcd_src_ground_points, \n",
    "            pcd_dst_ground_points, \n",
    "            THRESHOLD, \n",
    "            TRANS_INIT,\n",
    "            o3d.pipelines.registration.TransformationEstimationPointToPlane()\n",
    "        )\n",
    "\n",
    "print(reg_p2l)\n",
    "print(\"Transformation is:\")\n",
    "print(reg_p2l.transformation)\n",
    "\n",
    "transformation = reg_p2l.transformation"
   ]
  },
  {
   "cell_type": "code",
   "execution_count": 5,
   "metadata": {},
   "outputs": [
    {
     "name": "stdout",
     "output_type": "stream",
     "text": [
      "Saving transformed LAS to data/vuelos_marzos/29032025/con talud/100m_10ms_100khz_plena_luz/km11_sectora_100m_10ms_100khz_plena_luz_0_0_transformed.las\n"
     ]
    }
   ],
   "source": [
    "# Read existing LAS\n",
    "las = lp.read(source_path)\n",
    "\n",
    "src_las_data_points_transformed = np.dot(transformation[:3, :3], las.xyz.T).T + transformation[:3, 3]\n",
    "\n",
    "# Overwrite coordinates with your transformed point cloud\n",
    "las.x = src_las_data_points_transformed[:, 0]\n",
    "las.y = src_las_data_points_transformed[:, 1]\n",
    "las.z = src_las_data_points_transformed[:, 2]\n",
    "\n",
    "# Save as a new file (don’t overwrite original unless sure)\n",
    "output_path = source_path.replace('.las', '_transformed.las')\n",
    "print(f\"Saving transformed LAS to {output_path}\")\n",
    "las.write(output_path)"
   ]
  }
 ],
 "metadata": {
  "kernelspec": {
   "display_name": "env",
   "language": "python",
   "name": "python3"
  },
  "language_info": {
   "codemirror_mode": {
    "name": "ipython",
    "version": 3
   },
   "file_extension": ".py",
   "mimetype": "text/x-python",
   "name": "python",
   "nbconvert_exporter": "python",
   "pygments_lexer": "ipython3",
   "version": "3.10.12"
  }
 },
 "nbformat": 4,
 "nbformat_minor": 2
}
