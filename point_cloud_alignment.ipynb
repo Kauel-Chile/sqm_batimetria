{
 "cells": [
  {
   "cell_type": "code",
   "execution_count": 1,
   "metadata": {},
   "outputs": [
    {
     "name": "stdout",
     "output_type": "stream",
     "text": [
      "Jupyter environment detected. Enabling Open3D WebVisualizer.\n",
      "[Open3D INFO] WebRTC GUI backend enabled.\n",
      "[Open3D INFO] WebRTCWindowSystem: HTTP handshake server disabled.\n"
     ]
    }
   ],
   "source": [
    "import copy\n",
    "import numpy as np\n",
    "import laspy as lp\n",
    "import open3d as o3d\n",
    "\n",
    "def to_open3d(points):\n",
    "    pcd = o3d.geometry.PointCloud()\n",
    "    pcd.points = o3d.utility.Vector3dVector(points)\n",
    "    return pcd\n",
    "\n",
    "def las_to_open3d(las_source_path, target_path):\n",
    "    las = lp.read(las_source_path)\n",
    "    points = np.vstack((las.x, las.y, las.z)).transpose()\n",
    "    pcd = to_open3d(points)\n",
    "    o3d.io.write_point_cloud(target_path, pcd)\n",
    "\n",
    "def draw_registration_result(source, target, transformation):\n",
    "    source_temp = copy.deepcopy(source)\n",
    "    target_temp = copy.deepcopy(target)\n",
    "    source_temp.paint_uniform_color([1, 0.706, 0])\n",
    "    target_temp.paint_uniform_color([0, 0.651, 0.929])\n",
    "    source_temp.transform(transformation)\n",
    "    o3d.visualization.draw_geometries([source_temp, target_temp])\n",
    "\n",
    "def get_ground_points(las_source_path, salmuera):\n",
    "    las = lp.read(las_source_path)\n",
    "    points = np.vstack((las.x, las.y, las.z)).transpose()\n",
    "    data_points = np.hstack((points,\n",
    "                        np.expand_dims(las.return_number, -1),\n",
    "                        np.expand_dims(las.number_of_returns, -1)))\n",
    "    one_return = data_points[(data_points[:, -1] == 1)][:, :3]\n",
    "    return one_return[one_return[:,2] > salmuera] \n"
   ]
  },
  {
   "cell_type": "code",
   "execution_count": 2,
   "metadata": {},
   "outputs": [],
   "source": [
    "rasantes = {\n",
    "    'km11': 2300.382,  \n",
    "    'km12': 2300.345,   \n",
    "    'km13': 2300.372,\n",
    "    '3a': 2300.305,\n",
    "    '2a': 2300.700,\n",
    "    'pam2': 2300.618  \n",
    "}\n",
    "\n",
    "salmueras = {\n",
    "    'km11': 2300.866,\n",
    "    'km12': 2300.582,\n",
    "    'km13': 2300.647,\n",
    "    'pam2': 2302.185,\n",
    "    '2a': 2301.129,\n",
    "    '3a': 2300.978\n",
    "}\n",
    "\n",
    "POZA = 'km11'\n",
    "THRESHOLD = 0.02\n",
    "SALMUERA = salmueras.get(POZA, None)\n",
    "RASANTE = rasantes.get(POZA, None)\n",
    "TRANS_INIT = np.asarray([[1.0, 0.0, 0.0, 0.0], \n",
    "                         [0.0, 1.0, 0.0, 0.0],\n",
    "                         [0.0, 0.0, 1.0, 0.0], \n",
    "                         [0.0, 0.0, 0.0, 1.0]])"
   ]
  },
  {
   "cell_type": "code",
   "execution_count": 3,
   "metadata": {},
   "outputs": [],
   "source": [
    "source_path = 'data/vuelos_marzos/29032025/con talud/100m_10ms_100khz_plena_luz/km11_sectora_100m_10ms_100khz_plena_luz_0_0.las'\n",
    "target_path = 'data/vuelos_marzos/29032025/con talud/100m_7ms_100khz_plena_luz/km11_sectora_100m_7ms_100khz_plena_luz_0_0.las'\n",
    "pcd_source_path = source_path.replace('.las', '.pcd')\n",
    "pcd_target_path = target_path.replace('.las', '.pcd')"
   ]
  },
  {
   "cell_type": "code",
   "execution_count": 4,
   "metadata": {},
   "outputs": [
    {
     "name": "stdout",
     "output_type": "stream",
     "text": [
      "Apply point-to-plane ICP\n",
      "RegistrationResult with fitness=1.374121e-01, inlier_rmse=1.479058e-02, and correspondence_set size of 233086\n",
      "Access transformation to get result.\n",
      "Transformation is:\n",
      "[[ 9.99999999e-01 -1.43256528e-05 -2.99874826e-05  1.06129200e+02]\n",
      " [ 1.43218989e-05  9.99999992e-01 -1.25178405e-04 -7.75308193e+00]\n",
      " [ 2.99892756e-05  1.25177976e-04  9.99999992e-01 -9.43613115e+02]\n",
      " [ 0.00000000e+00  0.00000000e+00  0.00000000e+00  1.00000000e+00]]\n"
     ]
    }
   ],
   "source": [
    "src_ground_points = get_ground_points(source_path, SALMUERA)\n",
    "pcd_src_ground_points = to_open3d(src_ground_points)\n",
    "\n",
    "dst_ground_points = get_ground_points(target_path, SALMUERA)\n",
    "pcd_dst_ground_points = to_open3d(dst_ground_points)\n",
    "\n",
    "pcd_src_ground_points.estimate_normals()\n",
    "pcd_dst_ground_points.estimate_normals()\n",
    "\n",
    "print(\"Apply point-to-plane ICP\")\n",
    "reg_p2l = o3d.pipelines.registration.registration_icp(\n",
    "            pcd_src_ground_points, \n",
    "            pcd_dst_ground_points, \n",
    "            THRESHOLD, \n",
    "            TRANS_INIT,\n",
    "            o3d.pipelines.registration.TransformationEstimationPointToPlane()\n",
    "        )\n",
    "\n",
    "print(reg_p2l)\n",
    "print(\"Transformation is:\")\n",
    "print(reg_p2l.transformation)\n",
    "\n",
    "transformation = reg_p2l.transformation"
   ]
  },
  {
   "cell_type": "code",
   "execution_count": 5,
   "metadata": {},
   "outputs": [
    {
     "name": "stdout",
     "output_type": "stream",
     "text": [
      "Saving transformed LAS to data/vuelos_marzos/29032025/con talud/100m_10ms_100khz_plena_luz/km11_sectora_100m_10ms_100khz_plena_luz_0_0_transformed.las\n"
     ]
    }
   ],
   "source": [
    "# Read existing LAS\n",
    "las = lp.read(source_path)\n",
    "\n",
    "src_las_data_points_transformed = np.dot(transformation[:3, :3], las.xyz.T).T + transformation[:3, 3]\n",
    "\n",
    "# Overwrite coordinates with your transformed point cloud\n",
    "las.x = src_las_data_points_transformed[:, 0]\n",
    "las.y = src_las_data_points_transformed[:, 1]\n",
    "las.z = src_las_data_points_transformed[:, 2]\n",
    "\n",
    "# Save as a new file (don’t overwrite original unless sure)\n",
    "output_path = source_path.replace('.las', '_transformed.las')\n",
    "print(f\"Saving transformed LAS to {output_path}\")\n",
    "las.write(output_path)"
   ]
  },
  {
   "cell_type": "code",
   "execution_count": 6,
   "metadata": {},
   "outputs": [],
   "source": [
    "import numpy as np\n",
    "from scipy.interpolate import NearestNDInterpolator, LinearNDInterpolator\n",
    "import rasterio\n",
    "from rasterio.transform import from_origin\n",
    "\n",
    "\n",
    "def generate_dem(points, rasante, output_filename=None, grid_spacing=None):\n",
    "    # Extraer y procesar coordenadas\n",
    "    x, y, z = points[:, 0], points[:, 1], points[:, 2] - rasante\n",
    "    z = np.clip(z, 0, 4)\n",
    "\n",
    "    # Calcular espaciado de la grilla\n",
    "    if grid_spacing is None:\n",
    "        dx = np.diff(x)\n",
    "        dy = np.diff(y)\n",
    "        point_spacing = np.mean(np.sqrt(dx**2 + dy**2))\n",
    "        grid_spacing = point_spacing\n",
    "\n",
    "    # Crear dimensiones de la grilla\n",
    "    x_min, x_max = np.min(x), np.max(x)\n",
    "    y_min, y_max = np.min(y), np.max(y)\n",
    "    \n",
    "    cols = int(np.ceil((x_max - x_min) / grid_spacing))\n",
    "    rows = int(np.ceil((y_max - y_min) / grid_spacing))\n",
    "\n",
    "    # Binning para promedio de elevaciones\n",
    "    grid_sum = np.zeros((rows, cols))\n",
    "    grid_count = np.zeros((rows, cols))\n",
    "    \n",
    "    xi = ((x - x_min) / grid_spacing).astype(int)\n",
    "    yi = ((y_max - y) / grid_spacing).astype(int)\n",
    "    \n",
    "    np.add.at(grid_sum, (yi, xi), z)\n",
    "    np.add.at(grid_count, (yi, xi), 1)\n",
    "    \n",
    "    dem = np.divide(grid_sum, grid_count, where=grid_count != 0)\n",
    "    dem[grid_count == 0] = np.nan\n",
    "\n",
    "    # Interpolación combinada lineal + nearest\n",
    "    mask = ~np.isnan(dem)\n",
    "    y_coords, x_coords = np.where(mask)\n",
    "    \n",
    "    # Coordenadas de los puntos válidos\n",
    "    xx = x_min + (x_coords + 0.5) * grid_spacing\n",
    "    yy = y_max - (y_coords + 0.5) * grid_spacing\n",
    "    \n",
    "    # Primera interpolación lineal\n",
    "    linear_interp = LinearNDInterpolator(np.column_stack((xx, yy)), dem[mask])\n",
    "    grid_x, grid_y = np.meshgrid(\n",
    "        x_min + (np.arange(cols) + 0.5) * grid_spacing,\n",
    "        y_max - (np.arange(rows) + 0.5) * grid_spacing\n",
    "    )\n",
    "    \n",
    "    dem_filled = dem.copy()\n",
    "    nan_mask = np.isnan(dem)\n",
    "    dem_filled[nan_mask] = linear_interp(grid_x[nan_mask], grid_y[nan_mask])\n",
    "\n",
    "    # Segunda interpolación nearest para NaN residuales\n",
    "    if np.isnan(dem_filled).any():\n",
    "        nearest_interp = NearestNDInterpolator(np.column_stack((xx, yy)), dem[mask])\n",
    "        residual_nan = np.isnan(dem_filled)\n",
    "        dem_filled[residual_nan] = nearest_interp(grid_x[residual_nan], grid_y[residual_nan])\n",
    "\n",
    "    # Guardar el DEM\n",
    "    if output_filename is not None:\n",
    "        transform = from_origin(\n",
    "            x_min - grid_spacing/2,\n",
    "            y_max + grid_spacing/2,\n",
    "            grid_spacing,\n",
    "            grid_spacing\n",
    "        )\n",
    "        \n",
    "        with rasterio.open(\n",
    "            output_filename,\n",
    "            'w',\n",
    "            driver='GTiff',\n",
    "            height=rows,\n",
    "            width=cols,\n",
    "            count=1,\n",
    "            dtype=dem_filled.dtype,\n",
    "            crs=None,\n",
    "            transform=transform,\n",
    "        ) as dst:\n",
    "            dst.write(dem_filled, 1)\n",
    "\n",
    "        print(f\"DEM guardado exitosamente en: {output_filename}\")\n",
    "    \n",
    "    return dem_filled\n",
    "\n",
    "def get_first_point(path):\n",
    "    las = lp.read(output_path)\n",
    "    points = np.vstack((las.x, las.y, las.z)).transpose()\n",
    "    return points"
   ]
  },
  {
   "cell_type": "code",
   "execution_count": 7,
   "metadata": {},
   "outputs": [],
   "source": [
    "points_a = get_first_point(source_path)\n",
    "points_b = get_first_point(target_path)\n",
    "\n",
    "source = to_open3d(points_a)\n",
    "target = to_open3d(points_b)\n",
    "\n",
    "draw_registration_result(source, target, transformation)\n",
    "\n",
    "#dem_a = generate_dem(points_a, RASANTE)\n",
    "#dem_b = generate_dem(points_b, RASANTE)"
   ]
  },
  {
   "cell_type": "code",
   "execution_count": 9,
   "metadata": {},
   "outputs": [
    {
     "data": {
      "text/plain": [
       "array([], dtype=float64)"
      ]
     },
     "execution_count": 9,
     "metadata": {},
     "output_type": "execute_result"
    }
   ],
   "source": [
    "x = points_a - points_b\n",
    "\n",
    "x[x!=0]"
   ]
  },
  {
   "cell_type": "code",
   "execution_count": 10,
   "metadata": {},
   "outputs": [
    {
     "data": {
      "text/plain": [
       "array([[5.65008573e+05, 7.40329674e+06, 2.29913900e+03],\n",
       "       [5.65008454e+05, 7.40329660e+06, 2.29947975e+03],\n",
       "       [5.65008467e+05, 7.40329664e+06, 2.29938900e+03],\n",
       "       ...,\n",
       "       [5.65129545e+05, 7.40306097e+06, 2.30283950e+03],\n",
       "       [5.65129651e+05, 7.40306100e+06, 2.30280650e+03],\n",
       "       [5.65129530e+05, 7.40306112e+06, 2.30268875e+03]],\n",
       "      shape=(6326907, 3))"
      ]
     },
     "execution_count": 10,
     "metadata": {},
     "output_type": "execute_result"
    }
   ],
   "source": [
    "points_a"
   ]
  },
  {
   "cell_type": "code",
   "execution_count": 11,
   "metadata": {},
   "outputs": [
    {
     "data": {
      "text/plain": [
       "array([[5.65008573e+05, 7.40329674e+06, 2.29913900e+03],\n",
       "       [5.65008454e+05, 7.40329660e+06, 2.29947975e+03],\n",
       "       [5.65008467e+05, 7.40329664e+06, 2.29938900e+03],\n",
       "       ...,\n",
       "       [5.65129545e+05, 7.40306097e+06, 2.30283950e+03],\n",
       "       [5.65129651e+05, 7.40306100e+06, 2.30280650e+03],\n",
       "       [5.65129530e+05, 7.40306112e+06, 2.30268875e+03]],\n",
       "      shape=(6326907, 3))"
      ]
     },
     "execution_count": 11,
     "metadata": {},
     "output_type": "execute_result"
    }
   ],
   "source": [
    "points_b"
   ]
  },
  {
   "cell_type": "code",
   "execution_count": null,
   "metadata": {},
   "outputs": [],
   "source": []
  }
 ],
 "metadata": {
  "kernelspec": {
   "display_name": "env",
   "language": "python",
   "name": "python3"
  },
  "language_info": {
   "codemirror_mode": {
    "name": "ipython",
    "version": 3
   },
   "file_extension": ".py",
   "mimetype": "text/x-python",
   "name": "python",
   "nbconvert_exporter": "python",
   "pygments_lexer": "ipython3",
   "version": "3.10.12"
  }
 },
 "nbformat": 4,
 "nbformat_minor": 2
}
