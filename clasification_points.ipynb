{
 "cells": [
  {
   "cell_type": "code",
   "execution_count": 1,
   "metadata": {},
   "outputs": [],
   "source": [
    "import torch\n",
    "import pandas as pd\n",
    "import torch.nn as nn\n",
    "import torch.optim as optim\n",
    "\n",
    "from tqdm import tqdm\n",
    "from torch.utils.data import Dataset, DataLoader"
   ]
  },
  {
   "cell_type": "code",
   "execution_count": 2,
   "metadata": {},
   "outputs": [],
   "source": [
    "# Create dataset and dataloader\n",
    "class CoordinateDataset(Dataset):\n",
    "    def __init__(self, data_dir):\n",
    "        self.data = pd.read_csv(data_dir)\n",
    "        self.x, self.y = self.__processing()\n",
    "\n",
    "    def __getitem__(self, idx):\n",
    "        return self.x[idx], self.y[idx] # Se regresa un registro de datos junto con su etiqueta\n",
    "\n",
    "    def __len__(self):\n",
    "        return len(self.data)\n",
    "\n",
    "    def __processing(self):\n",
    "        i, o = self.data[['x', 'y', 'z']].to_numpy(), self.data[['class']].to_numpy()\n",
    "        return torch.from_numpy(i).float(), torch.from_numpy(o).float()  \n"
   ]
  },
  {
   "cell_type": "code",
   "execution_count": 3,
   "metadata": {},
   "outputs": [],
   "source": [
    "# Configuration\n",
    "BATCH_SIZE = 2048\n",
    "EPOCHS = 100\n",
    "LEARNING_RATE = 0.001\n",
    "ROPE_DIM = 128   # Dimension for each coordinate's RoPE embedding\n",
    "LINEAR_DIM = 256 # Dimension for each linear layer\n",
    "\n",
    "TRAIN_PATH_DATASET = 'data/csv/data_class/train.csv'\n",
    "VAL_PATH_DATASET = 'data/csv/data_class/val.csv'\n",
    "\n",
    "train_dataset = CoordinateDataset(TRAIN_PATH_DATASET)\n",
    "val_dataset = CoordinateDataset(VAL_PATH_DATASET)\n",
    "\n",
    "train_dataloader = DataLoader(train_dataset, batch_size=BATCH_SIZE, shuffle=False) \n",
    "val_dataloader = DataLoader(val_dataset, batch_size=BATCH_SIZE, shuffle=False) "
   ]
  },
  {
   "cell_type": "code",
   "execution_count": 4,
   "metadata": {},
   "outputs": [],
   "source": [
    "def pt_module_parameters(module):\n",
    "    \"\"\" Retorna la cantidad de parametros del modulo pytorch \"\"\"\n",
    "    pp=0\n",
    "    for p in list(module.parameters()):\n",
    "        nn=1\n",
    "        for s in list(p.size()):\n",
    "            nn = nn*s\n",
    "        pp += nn\n",
    "    return pp"
   ]
  },
  {
   "cell_type": "code",
   "execution_count": 5,
   "metadata": {},
   "outputs": [],
   "source": [
    "# Rotary Position Embedding (RoPE) module\n",
    "class RoPE(nn.Module):\n",
    "    def __init__(self, dim):\n",
    "        super().__init__()\n",
    "        self.dim = dim\n",
    "        inv_freq = torch.logspace(0, 3, dim//2) #Valores que multiplican al angulo van desde 1 a 1000 en escala logaritmica\n",
    "        self.register_buffer('inv_freq', inv_freq)\n",
    "\n",
    "    def forward(self, x):\n",
    "        # x shape: (batch_size, 2) containing (x, y) coordinates\n",
    "        x_coords = x[:, 0]\n",
    "        y_coords = x[:, 1]\n",
    "        z_coords = x[:, 2]\n",
    "        \n",
    "        x_embed = self._embed_single(x_coords)\n",
    "        y_embed = self._embed_single(y_coords)\n",
    "        z_embed = self._embed_single(z_coords)\n",
    "        return torch.cat([x_embed, y_embed, z_embed], dim=1)\n",
    "\n",
    "    def _embed_single(self, pos):\n",
    "        # pos shape: (batch_size,)\n",
    "        angles = pos.unsqueeze(-1) * self.inv_freq.unsqueeze(0)\n",
    "        sin = torch.sin(angles)\n",
    "        cos = torch.cos(angles)\n",
    "        \n",
    "        # Interleave sin and cos values\n",
    "        embed = torch.stack([sin, cos], dim=-1)\n",
    "        return embed.view(embed.size(0), -1)"
   ]
  },
  {
   "cell_type": "code",
   "execution_count": 6,
   "metadata": {},
   "outputs": [],
   "source": [
    "# Neural network architecture\n",
    "class ColorNetRope(nn.Module):\n",
    "    def __init__(self):\n",
    "        super().__init__()\n",
    "        self.rope = RoPE(ROPE_DIM)\n",
    "        self.layers = nn.Sequential(\n",
    "            nn.Linear(3 *ROPE_DIM, LINEAR_DIM),\n",
    "            nn.GELU(), \n",
    "            nn.Linear(LINEAR_DIM, LINEAR_DIM),\n",
    "            nn.GELU(),\n",
    "            nn.Linear(LINEAR_DIM, LINEAR_DIM),\n",
    "            nn.GELU(),\n",
    "            nn.Linear(LINEAR_DIM, 4),\n",
    "            nn.Softmax(dim=1)\n",
    "            #nn.Sigmoid()\n",
    "        )\n",
    "\n",
    "    def forward(self, x):\n",
    "        x = self.rope(x)\n",
    "        return self.layers(x)"
   ]
  },
  {
   "cell_type": "code",
   "execution_count": 7,
   "metadata": {},
   "outputs": [
    {
     "name": "stdout",
     "output_type": "stream",
     "text": [
      "Model Parameters: 231172\n"
     ]
    }
   ],
   "source": [
    "# Initialize model, loss, and optimizer\n",
    "device = torch.device(\"cuda\" if torch.cuda.is_available() else \"cpu\")\n",
    "\n",
    "# model = ColorNet().to(device)\n",
    "model = ColorNetRope().to(device)\n",
    "#criterion = nn.MSELoss()\n",
    "\n",
    "optimizer = optim.AdamW(model.parameters(), lr=LEARNING_RATE)\n",
    "scheduler = optim.lr_scheduler.CosineAnnealingLR(optimizer, T_max=EPOCHS, eta_min=LEARNING_RATE*0.1)\n",
    "\n",
    "print(f\"Model Parameters: {pt_module_parameters(model)}\")"
   ]
  },
  {
   "cell_type": "code",
   "execution_count": 8,
   "metadata": {},
   "outputs": [],
   "source": [
    "def pt_bce2(yp, yt, eps=1e-8):\n",
    "    \"\"\" Binary Cross Entropy con recorte entre eps y 1-eps para evitar errores numericos en el logaritmo. Retorna un tensor con la misma forma que yp \"\"\"\n",
    "    epsc = 1-eps\n",
    "    yp  = torch.clip(yp,eps,epsc)\n",
    "    ypc = torch.clip(1-yp,eps,epsc)\n",
    "    loss = yt*torch.log(yp)+(1-yt)*torch.log(ypc)\n",
    "    return -loss\n",
    "\n",
    "def pt_loss_mbce2(yp, yt, eps=1e-8):    \n",
    "    \"\"\" Mean Binary Cross Entropy con recorte entre eps y 1-eps para evitar errores numericos en el logaritmo. Retorna un scalar  \"\"\"\n",
    "    return pt_bce2(yp, yt, eps).mean()"
   ]
  },
  {
   "cell_type": "code",
   "execution_count": 9,
   "metadata": {},
   "outputs": [],
   "source": [
    "# # Training loop\n",
    "# train_loss = []\n",
    "# for epoch in range(EPOCHS):\n",
    "#     epoch_loss = 0.0\n",
    "#     progress_bar = tqdm(train_dataloader, desc=f'Epoch {epoch+1}/{EPOCHS}', leave=False)\n",
    "#     for inputs, targets in progress_bar:\n",
    "#         inputs, targets = inputs.to(device), targets.to(device)\n",
    "#         optimizer.zero_grad()\n",
    "#         outputs = model(inputs)\n",
    "#         loss = pt_loss_mbce2(outputs, targets)\n",
    "#         loss.backward()\n",
    "#         optimizer.step()\n",
    "#         epoch_loss += loss.item() * inputs.size(0)\n",
    "#         progress_bar.set_postfix(loss=loss.item(), lr=scheduler.get_last_lr()[0])\n",
    "#     scheduler.step()\n",
    "#     epoch_loss /= len(train_dataset)\n",
    "#     train_loss.append(epoch_loss)\n",
    "#     print(f'Epoch {epoch+1}/{EPOCHS} - Loss: {epoch_loss:.6f} LR: {scheduler.get_last_lr()[0]:.6f}')"
   ]
  },
  {
   "cell_type": "code",
   "execution_count": 10,
   "metadata": {},
   "outputs": [
    {
     "name": "stderr",
     "output_type": "stream",
     "text": [
      "                                                                                       \r"
     ]
    },
    {
     "name": "stdout",
     "output_type": "stream",
     "text": [
      "Epoch 1/100 - Train Loss: 0.952144 - Val Loss: 1.079978 - LR: 0.001000\n"
     ]
    },
    {
     "name": "stderr",
     "output_type": "stream",
     "text": [
      "                                                                                       \r"
     ]
    },
    {
     "name": "stdout",
     "output_type": "stream",
     "text": [
      "Epoch 2/100 - Train Loss: 0.952143 - Val Loss: 1.079977 - LR: 0.000999\n"
     ]
    },
    {
     "name": "stderr",
     "output_type": "stream",
     "text": [
      "                                                                                          \r"
     ]
    },
    {
     "name": "stdout",
     "output_type": "stream",
     "text": [
      "Epoch 3/100 - Train Loss: 0.952143 - Val Loss: 1.079978 - LR: 0.000998\n"
     ]
    },
    {
     "name": "stderr",
     "output_type": "stream",
     "text": [
      "                                                                                          \r"
     ]
    },
    {
     "name": "stdout",
     "output_type": "stream",
     "text": [
      "Epoch 4/100 - Train Loss: 0.952143 - Val Loss: 1.079977 - LR: 0.000996\n"
     ]
    },
    {
     "name": "stderr",
     "output_type": "stream",
     "text": [
      "                                                                                          \r"
     ]
    },
    {
     "name": "stdout",
     "output_type": "stream",
     "text": [
      "Epoch 5/100 - Train Loss: 0.952143 - Val Loss: 1.079977 - LR: 0.000994\n"
     ]
    },
    {
     "name": "stderr",
     "output_type": "stream",
     "text": [
      "                                                                                          \r"
     ]
    },
    {
     "name": "stdout",
     "output_type": "stream",
     "text": [
      "Epoch 6/100 - Train Loss: 0.952143 - Val Loss: 1.079977 - LR: 0.000992\n"
     ]
    },
    {
     "name": "stderr",
     "output_type": "stream",
     "text": [
      "                                                                                          \r"
     ]
    },
    {
     "name": "stdout",
     "output_type": "stream",
     "text": [
      "Epoch 7/100 - Train Loss: 0.952143 - Val Loss: 1.079977 - LR: 0.000989\n"
     ]
    },
    {
     "name": "stderr",
     "output_type": "stream",
     "text": [
      "                                                                                          \r"
     ]
    },
    {
     "name": "stdout",
     "output_type": "stream",
     "text": [
      "Epoch 8/100 - Train Loss: 0.952143 - Val Loss: 1.079977 - LR: 0.000986\n"
     ]
    },
    {
     "name": "stderr",
     "output_type": "stream",
     "text": [
      "                                                                                          \r"
     ]
    },
    {
     "name": "stdout",
     "output_type": "stream",
     "text": [
      "Epoch 9/100 - Train Loss: 0.952143 - Val Loss: 1.079977 - LR: 0.000982\n"
     ]
    },
    {
     "name": "stderr",
     "output_type": "stream",
     "text": [
      "                                                                                           \r"
     ]
    },
    {
     "name": "stdout",
     "output_type": "stream",
     "text": [
      "Epoch 10/100 - Train Loss: 0.952143 - Val Loss: 1.079977 - LR: 0.000978\n"
     ]
    },
    {
     "name": "stderr",
     "output_type": "stream",
     "text": [
      "                                                                                           "
     ]
    },
    {
     "name": "stdout",
     "output_type": "stream",
     "text": [
      "Epoch 11/100 - Train Loss: 0.952143 - Val Loss: 1.079977 - LR: 0.000973\n",
      "Early stopping at epoch 11\n",
      "Best model loaded from best_model.pth\n"
     ]
    },
    {
     "name": "stderr",
     "output_type": "stream",
     "text": [
      "\r"
     ]
    }
   ],
   "source": [
    "import torch\n",
    "from tqdm import tqdm\n",
    "\n",
    "# Validation loop\n",
    "def validate(model, dataloader, device):\n",
    "    model.eval()  # Set the model to evaluation mode\n",
    "    val_loss = 0.0\n",
    "    with torch.no_grad():  # Disable gradient calculation\n",
    "        for inputs, targets in tqdm(dataloader, desc='Validation', leave=False):\n",
    "            inputs, targets = inputs.to(device), targets.to(device)\n",
    "            outputs = model(inputs)\n",
    "            loss = pt_loss_mbce2(outputs, targets)\n",
    "            val_loss += loss.item() * inputs.size(0)\n",
    "    val_loss /= len(dataloader.dataset)\n",
    "    return val_loss\n",
    "\n",
    "\n",
    "# Training and validation loop\n",
    "train_loss = []\n",
    "val_loss = []\n",
    "best_val_loss = float('inf')\n",
    "patience = 5  # Number of epochs to wait for improvement\n",
    "patience_counter = 0\n",
    "save_path = 'best_model.pth'\n",
    "\n",
    "for epoch in range(EPOCHS):\n",
    "    epoch_loss = 0.0\n",
    "    progress_bar = tqdm(train_dataloader, desc=f'Epoch {epoch+1}/{EPOCHS}', leave=False)\n",
    "    model.train()  # Set the model to training mode\n",
    "    for inputs, targets in progress_bar:\n",
    "        inputs, targets = inputs.to(device), targets.to(device)\n",
    "        optimizer.zero_grad()\n",
    "        outputs = model(inputs)\n",
    "        loss = pt_loss_mbce2(outputs, targets)\n",
    "        loss.backward()\n",
    "        optimizer.step()\n",
    "        epoch_loss += loss.item() * inputs.size(0)\n",
    "        progress_bar.set_postfix(loss=loss.item(), lr=scheduler.get_last_lr()[0])\n",
    "    scheduler.step()\n",
    "    epoch_loss /= len(train_dataset)\n",
    "    train_loss.append(epoch_loss)\n",
    "\n",
    "    # Validate the model\n",
    "    val_epoch_loss = validate(model, val_dataloader, device)\n",
    "    val_loss.append(val_epoch_loss)\n",
    "\n",
    "    print(f'Epoch {epoch+1}/{EPOCHS} - Train Loss: {epoch_loss:.6f} - Val Loss: {val_epoch_loss:.6f} - LR: {scheduler.get_last_lr()[0]:.6f}')\n",
    "\n",
    "    # Save the model if it has the best validation loss\n",
    "    if val_epoch_loss < best_val_loss:\n",
    "        best_val_loss = val_epoch_loss\n",
    "        torch.save(model.state_dict(), save_path)\n",
    "        patience_counter = 0\n",
    "    else:\n",
    "        patience_counter += 1\n",
    "\n",
    "    # Early stopping\n",
    "    if patience_counter >= patience:\n",
    "        print(f'Early stopping at epoch {epoch+1}')\n",
    "        break\n",
    "\n",
    "# Load the best model\n",
    "model.load_state_dict(torch.load(save_path))\n",
    "print(f'Best model loaded from {save_path}')"
   ]
  },
  {
   "cell_type": "code",
   "execution_count": 11,
   "metadata": {},
   "outputs": [
    {
     "data": {
      "image/png": "[encoded data removed]",
      "text/plain": [
       "<Figure size 1000x600 with 1 Axes>"
      ]
     },
     "metadata": {},
     "output_type": "display_data"
    }
   ],
   "source": [
    "import matplotlib.pyplot as plt\n",
    "\n",
    "# Plot training loss\n",
    "plt.figure(figsize=(10, 6))\n",
    "plt.plot(train_loss)\n",
    "plt.title('Training Loss')\n",
    "plt.xlabel('Epoch')\n",
    "plt.ylabel('BCE Loss')\n",
    "plt.grid(True)\n",
    "plt.show()"
   ]
  }
 ],
 "metadata": {
  "kernelspec": {
   "display_name": "env",
   "language": "python",
   "name": "python3"
  },
  "language_info": {
   "codemirror_mode": {
    "name": "ipython",
    "version": 3
   },
   "file_extension": ".py",
   "mimetype": "text/x-python",
   "name": "python",
   "nbconvert_exporter": "python",
   "pygments_lexer": "ipython3",
   "version": "3.10.12"
  }
 },
 "nbformat": 4,
 "nbformat_minor": 2
}
