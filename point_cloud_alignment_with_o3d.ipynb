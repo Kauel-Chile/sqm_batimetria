{
 "cells": [
  {
   "cell_type": "code",
   "execution_count": 1,
   "metadata": {},
   "outputs": [
    {
     "name": "stdout",
     "output_type": "stream",
     "text": [
      "Jupyter environment detected. Enabling Open3D WebVisualizer.\n",
      "[Open3D INFO] WebRTC GUI backend enabled.\n",
      "[Open3D INFO] WebRTCWindowSystem: HTTP handshake server disabled.\n"
     ]
    }
   ],
   "source": [
    "import copy\n",
    "import numpy as np\n",
    "import laspy as lp\n",
    "import os\n",
    "import open3d as o3d"
   ]
  },
  {
   "cell_type": "code",
   "execution_count": 2,
   "metadata": {},
   "outputs": [],
   "source": [
    "def las_to_open3d(las_source_path, target_path):\n",
    "    las = lp.read(las_source_path)\n",
    "    points = np.vstack((las.x, las.y, las.z)).transpose()\n",
    "\n",
    "    pcd = o3d.geometry.PointCloud()\n",
    "    pcd.points = o3d.utility.Vector3dVector(points)\n",
    "\n",
    "    # Optional: add colors if available\n",
    "    if hasattr(las, \"red\") and hasattr(las, \"green\") and hasattr(las, \"blue\"):\n",
    "        colors = np.vstack((las.red, las.green, las.blue)).transpose()\n",
    "        colors = colors / 65535.0 if np.max(colors) > 1.0 else colors  # Normalize if needed\n",
    "        pcd.colors = o3d.utility.Vector3dVector(colors)\n",
    "\n",
    "    # Visualize or save\n",
    "    #o3d.visualization.draw_geometries([pcd])\n",
    "    o3d.io.write_point_cloud(target_path, pcd)"
   ]
  },
  {
   "cell_type": "code",
   "execution_count": 3,
   "metadata": {},
   "outputs": [],
   "source": [
    "def draw_registration_result(source, target, transformation):\n",
    "    source_temp = copy.deepcopy(source)\n",
    "    target_temp = copy.deepcopy(target)\n",
    "    source_temp.paint_uniform_color([1, 0.706, 0])\n",
    "    target_temp.paint_uniform_color([0, 0.651, 0.929])\n",
    "    source_temp.transform(transformation)\n",
    "    o3d.visualization.draw_geometries([source_temp, target_temp])\n",
    "                                      #zoom=0.4459,\n",
    "                                      #front=[0.9288, -0.2951, -0.2242],\n",
    "                                      #lookat=[1.6784, 2.0612, 1.4451],\n",
    "                                      #up=[-0.3402, -0.9189, -0.1996])"
   ]
  },
  {
   "cell_type": "code",
   "execution_count": 4,
   "metadata": {},
   "outputs": [],
   "source": [
    "source_path = '/home/diego/Downloads/250329_153004_100m_10ms_100khz_plena-luz/clasificadas_sin_talud/km-11-sector-b_100m_10ms_100khz_plena-luz_0_0.las'\n",
    "target_path = '/home/diego/Downloads/250329_105110_100m_10ms_100khz_madrugada/clasificadas_sin_talud/km-11-sector-b_100m_10ms_100khz_madrugada_0_0.las'"
   ]
  },
  {
   "cell_type": "code",
   "execution_count": 5,
   "metadata": {},
   "outputs": [],
   "source": [
    "pcd_source_path = source_path.replace('.las', '.pcd')\n",
    "pcd_target_path = target_path.replace('.las', '.pcd')\n",
    "# Check if the pcd_source_path and pcd_target_path already exist\n",
    "if not os.path.exists(pcd_source_path) or not os.path.exists(pcd_target_path):\n",
    "    # Convert LAS to Open3D PointCloud\n",
    "    las_to_open3d(source_path, pcd_source_path)\n",
    "    las_to_open3d(target_path, pcd_target_path)"
   ]
  },
  {
   "cell_type": "code",
   "execution_count": 6,
   "metadata": {},
   "outputs": [],
   "source": [
    "source = o3d.io.read_point_cloud(pcd_source_path)\n",
    "target = o3d.io.read_point_cloud(pcd_target_path)"
   ]
  },
  {
   "cell_type": "code",
   "execution_count": 7,
   "metadata": {},
   "outputs": [],
   "source": [
    "source.estimate_normals()\n",
    "target.estimate_normals()"
   ]
  },
  {
   "cell_type": "code",
   "execution_count": 9,
   "metadata": {},
   "outputs": [],
   "source": [
    "threshold = 0.02\n",
    "trans_init = np.asarray([[1.0, 0.0, 0.0, 0.0], [0.0, 1.0, 0.0, 0.0],\n",
    "                             [0.0, 0.0, 1.0, 0.0], [0.0, 0.0, 0.0, 1.0]])\n",
    "#draw_registration_result(source, target, trans_init)"
   ]
  },
  {
   "cell_type": "code",
   "execution_count": 10,
   "metadata": {},
   "outputs": [
    {
     "name": "stdout",
     "output_type": "stream",
     "text": [
      "Apply point-to-plane ICP\n",
      "RegistrationResult with fitness=6.805482e-01, inlier_rmse=7.647170e-03, and correspondence_set size of 3329929\n",
      "Access transformation to get result.\n",
      "Transformation is:\n",
      "[[ 9.99999991e-01 -1.40893015e-08  1.36041376e-04 -2.03413129e-01]\n",
      " [ 5.37689522e-10  9.99999995e-01  9.96138989e-05 -1.92749128e-01]\n",
      " [-1.36041377e-04 -9.96138979e-05  9.99999986e-01  8.14256745e+02]\n",
      " [ 0.00000000e+00  0.00000000e+00  0.00000000e+00  1.00000000e+00]]\n"
     ]
    }
   ],
   "source": [
    "print(\"Apply point-to-plane ICP\")\n",
    "reg_p2l = o3d.pipelines.registration.registration_icp(\n",
    "    source, target, threshold, trans_init,\n",
    "    o3d.pipelines.registration.TransformationEstimationPointToPlane())\n",
    "print(reg_p2l)\n",
    "print(\"Transformation is:\")\n",
    "print(reg_p2l.transformation)\n",
    "#draw_registration_result(source, target, reg_p2l.transformation)"
   ]
  },
  {
   "cell_type": "code",
   "execution_count": 11,
   "metadata": {},
   "outputs": [],
   "source": [
    "import pyvista as pv\n",
    "import laspy as lp"
   ]
  },
  {
   "cell_type": "code",
   "execution_count": 12,
   "metadata": {},
   "outputs": [
    {
     "name": "stdout",
     "output_type": "stream",
     "text": [
      "Transformation is: [[ 9.99999991e-01 -1.40893015e-08  1.36041376e-04 -2.03413129e-01]\n",
      " [ 5.37689522e-10  9.99999995e-01  9.96138989e-05 -1.92749128e-01]\n",
      " [-1.36041377e-04 -9.96138979e-05  9.99999986e-01  8.14256745e+02]\n",
      " [ 0.00000000e+00  0.00000000e+00  0.00000000e+00  1.00000000e+00]]\n"
     ]
    }
   ],
   "source": [
    "transformation = reg_p2l.transformation\n",
    "print(f\"Transformation is: {transformation}\")"
   ]
  },
  {
   "cell_type": "code",
   "execution_count": null,
   "metadata": {},
   "outputs": [],
   "source": [
    "# transformed_source = copy.deepcopy(source)\n",
    "# transformed_source.transform(transformation)\n",
    "# points = np.asarray(transformed_source.points)"
   ]
  },
  {
   "cell_type": "code",
   "execution_count": 13,
   "metadata": {},
   "outputs": [
    {
     "name": "stdout",
     "output_type": "stream",
     "text": [
      "Saving transformed LAS to /home/diego/Downloads/250329_153004_100m_10ms_100khz_plena-luz/clasificadas_sin_talud/km-11-sector-b_100m_10ms_100khz_plena-luz_0_0_transformed.las\n"
     ]
    }
   ],
   "source": [
    "import laspy\n",
    "import numpy as np\n",
    "\n",
    "# Read existing LAS\n",
    "las = laspy.read(source_path)\n",
    "\n",
    "src_las_data_points_transformed = np.dot(\n",
    "     transformation[:3, :3], las.xyz.T).T + transformation[:3, 3]\n",
    "\n",
    "# Transform the point cloud using the transformation matrix\n",
    "#src_las_data_points_transformed = points\n",
    "\n",
    "# Overwrite coordinates with your transformed point cloud\n",
    "las.x = src_las_data_points_transformed[:, 0]\n",
    "las.y = src_las_data_points_transformed[:, 1]\n",
    "las.z = src_las_data_points_transformed[:, 2]\n",
    "\n",
    "# Save as a new file (don’t overwrite original unless sure)\n",
    "output_path = source_path.replace('.las', '_transformed.las')\n",
    "print(f\"Saving transformed LAS to {output_path}\")\n",
    "las.write(output_path)"
   ]
  },
  {
   "cell_type": "code",
   "execution_count": null,
   "metadata": {},
   "outputs": [],
   "source": []
  }
 ],
 "metadata": {
  "kernelspec": {
   "display_name": "venv",
   "language": "python",
   "name": "python3"
  },
  "language_info": {
   "codemirror_mode": {
    "name": "ipython",
    "version": 3
   },
   "file_extension": ".py",
   "mimetype": "text/x-python",
   "name": "python",
   "nbconvert_exporter": "python",
   "pygments_lexer": "ipython3",
   "version": "3.12.3"
  }
 },
 "nbformat": 4,
 "nbformat_minor": 2
}
