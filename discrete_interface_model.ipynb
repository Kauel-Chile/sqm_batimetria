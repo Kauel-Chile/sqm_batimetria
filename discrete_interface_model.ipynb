{
 "cells": [
  {
   "cell_type": "code",
   "execution_count": 1,
   "metadata": {},
   "outputs": [],
   "source": [
    "import os\n",
    "import tempfile\n",
    "import numpy as np\n",
    "import pyvista as pv \n",
    "import pyransac3d as pyrsc\n",
    "import matplotlib.pyplot as plt\n",
    "\n",
    "from tqdm import tqdm \n",
    "from joblib import Parallel, delayed\n",
    "from sklearn.neighbors import KDTree\n",
    "from sklearn.mixture import GaussianMixture\n",
    "\n",
    "from utils.plot_tools import plot_pv, plot_gmm\n",
    "from utils.las_tools import get_points_and_colors_from_las\n",
    "from utils.statistical_tools import get_neighborhood, automatic_gmm_components, normalize_points"
   ]
  },
  {
   "cell_type": "code",
   "execution_count": 5,
   "metadata": {},
   "outputs": [],
   "source": [
    "POOL_NAME = 'RBS'\n",
    "PROJECT_NAME = 'pozas_110125_100_10_120'\n",
    "PATH_PROJECT_LAS = f'data/{PROJECT_NAME}/{POOL_NAME}_col_0_row_1_19s.las'\n",
    "\n",
    "LIMIT = -1\n",
    "NEIGHBORHOOD_SIZE_R = 0.4"
   ]
  },
  {
   "cell_type": "code",
   "execution_count": 6,
   "metadata": {},
   "outputs": [],
   "source": [
    "def process_chunk(chunk_indices, mmap_filename, shape, dtype, neighborhood_size_r):\n",
    "    points = np.memmap(mmap_filename, dtype=dtype, mode='r', shape=shape)\n",
    "    kdtree = KDTree(points[:,:2])\n",
    "    chunk_results = []\n",
    "    \n",
    "    for i in chunk_indices:\n",
    "        indices = get_neighborhood(kdtree, i, neighborhood_size_r)\n",
    "        z_neighborhood = points[indices, 2]\n",
    "        \n",
    "        if len(z_neighborhood) < 2:\n",
    "            continue\n",
    "            \n",
    "        z_neighborhood = z_neighborhood.reshape(-1, 1)\n",
    "        optimal_n_components, _ = automatic_gmm_components(z_neighborhood, T=0.1)\n",
    "        \n",
    "        chunk_results.append([\n",
    "            points[i, 0], \n",
    "            points[i, 1], \n",
    "            points[i, 2],\n",
    "            points[i, 3],  \n",
    "            points[i, 4], \n",
    "            points[i, 5], \n",
    "            optimal_n_components,\n",
    "        ])\n",
    "    \n",
    "    return chunk_results\n",
    "\n",
    "def get_points_with_optimal_n_components(points, neighborhood_size=0.1):\n",
    "    \n",
    "    # Configurar archivo temporal para memoria compartida\n",
    "    temp_dir = tempfile.mkdtemp()\n",
    "    mmap_filename = os.path.join(temp_dir, 'points.dat')\n",
    "    fp = np.memmap(mmap_filename, dtype=points.dtype, mode='w+', shape=points.shape)\n",
    "    fp[:] = points[:]\n",
    "    del fp  # Liberar recursos y asegurar escritura\n",
    "    \n",
    "    # Configurar paralelización\n",
    "    n_jobs = os.cpu_count()  # Usar todos los núcleos disponibles\n",
    "    indices = np.arange(len(points))\n",
    "    chunks = np.array_split(indices, n_jobs * 4)  # Dividir en más chunks para balanceo de carga\n",
    "    \n",
    "    # Procesar en paralelo\n",
    "    results = Parallel(n_jobs=n_jobs, verbose=10)(\n",
    "        delayed(process_chunk)(\n",
    "            chunk,\n",
    "            mmap_filename,\n",
    "            points.shape,\n",
    "            points.dtype,\n",
    "            neighborhood_size\n",
    "        ) for chunk in tqdm(chunks, desc=\"Processing Chunks\", position=0, leave=True) #chunks\n",
    "    )\n",
    "    \n",
    "    # Limpiar y combinar resultados\n",
    "    final_result = [item for sublist in results for item in sublist]\n",
    "    \n",
    "    # Limpiar archivos temporales\n",
    "    try:\n",
    "        os.remove(mmap_filename)\n",
    "        os.rmdir(temp_dir)\n",
    "    except Exception as e:\n",
    "        print(f\"Error limpiando archivos temporales: {e}\")\n",
    "    \n",
    "    points_norm = np.array(final_result)\n",
    "    points_, x_min, x_max, y_min, y_max, z_min, z_max = normalize_points(points_norm[:,:3])\n",
    "    points_norm[:, :3] = points_\n",
    "    \n",
    "    return {\n",
    "        'points_norm': points_norm,\n",
    "        'x_min': x_min,\n",
    "        'x_max': x_max,\n",
    "        'y_min': y_min,\n",
    "        'y_max': y_max,\n",
    "        'z_min': z_min,\n",
    "        'z_max': z_max\n",
    "    }"
   ]
  },
  {
   "cell_type": "markdown",
   "metadata": {},
   "source": [
    "## Estimate the number of Gaussians that fit for each point with respect to its height."
   ]
  },
  {
   "cell_type": "code",
   "execution_count": 7,
   "metadata": {},
   "outputs": [
    {
     "name": "stdout",
     "output_type": "stream",
     "text": [
      "(1876568, 6)\n"
     ]
    },
    {
     "name": "stderr",
     "output_type": "stream",
     "text": [
      "Processing Chunks:   0%|          | 0/64 [00:00<?, ?it/s][Parallel(n_jobs=16)]: Using backend LokyBackend with 16 concurrent workers.\n",
      "Processing Chunks:  50%|█████     | 32/64 [05:31<06:29, 12.18s/it][Parallel(n_jobs=16)]: Done   9 tasks      | elapsed:  9.2min\n",
      "Processing Chunks:  75%|███████▌  | 48/64 [15:21<06:15, 23.46s/it][Parallel(n_jobs=16)]: Done  18 tasks      | elapsed: 16.0min\n",
      "[Parallel(n_jobs=16)]: Done  29 tasks      | elapsed: 19.7min\n",
      "Processing Chunks: 100%|██████████| 64/64 [25:10<00:00, 23.60s/it]\n",
      "[Parallel(n_jobs=16)]: Done  40 out of  64 | elapsed: 30.5min remaining: 18.3min\n",
      "[Parallel(n_jobs=16)]: Done  47 out of  64 | elapsed: 31.4min remaining: 11.4min\n",
      "[Parallel(n_jobs=16)]: Done  54 out of  64 | elapsed: 40.2min remaining:  7.4min\n",
      "[Parallel(n_jobs=16)]: Done  61 out of  64 | elapsed: 42.0min remaining:  2.1min\n",
      "[Parallel(n_jobs=16)]: Done  64 out of  64 | elapsed: 42.5min finished\n"
     ]
    }
   ],
   "source": [
    "las_points, las_colors, las_rgba_colors = get_points_and_colors_from_las(PATH_PROJECT_LAS, limit=LIMIT)\n",
    "las_points_colors = np.hstack((las_points, las_rgba_colors))\n",
    "\n",
    "print(las_points_colors.shape)\n",
    "data_points = get_points_with_optimal_n_components(las_points_colors, neighborhood_size=NEIGHBORHOOD_SIZE_R) "
   ]
  },
  {
   "cell_type": "code",
   "execution_count": 8,
   "metadata": {},
   "outputs": [
    {
     "data": {
      "application/vnd.jupyter.widget-view+json": {
       "model_id": "eb86d63e8f0140b8900cb14eb30041df",
       "version_major": 2,
       "version_minor": 0
      },
      "text/plain": [
       "Widget(value='<iframe src=\"http://localhost:42291/index.html?ui=P_0x7855534726b0_0&reconnect=auto\" class=\"pyvi…"
      ]
     },
     "metadata": {},
     "output_type": "display_data"
    },
    {
     "name": "stderr",
     "output_type": "stream",
     "text": [
      "Exception raised\n",
      "KeyError('d9a414455f8af9a81113fd712945ea70_300d')\n",
      "Traceback (most recent call last):\n",
      "  File \"/home/yeriel/workspace/sqm_batimetria/env/lib/python3.10/site-packages/wslink/protocol.py\", line 313, in onCompleteMessage\n",
      "    results = func(*args, **kwargs)\n",
      "  File \"/home/yeriel/workspace/sqm_batimetria/env/lib/python3.10/site-packages/trame_vtk/modules/vtk/protocols/local_rendering.py\", line 33, in get_array\n",
      "    self.context.get_cached_data_array(data_hash, binary)\n",
      "  File \"/home/yeriel/workspace/sqm_batimetria/env/lib/python3.10/site-packages/trame_vtk/modules/vtk/serializers/synchronization_context.py\", line 35, in get_cached_data_array\n",
      "    cache_obj = self.data_array_cache[p_md5]\n",
      "KeyError: 'd9a414455f8af9a81113fd712945ea70_300d'\n",
      "\n",
      "Exception raised\n",
      "KeyError('587a4cec65c9a5f0ace6146735d34ba3_405L')\n",
      "Traceback (most recent call last):\n",
      "  File \"/home/yeriel/workspace/sqm_batimetria/env/lib/python3.10/site-packages/wslink/protocol.py\", line 313, in onCompleteMessage\n",
      "    results = func(*args, **kwargs)\n",
      "  File \"/home/yeriel/workspace/sqm_batimetria/env/lib/python3.10/site-packages/trame_vtk/modules/vtk/protocols/local_rendering.py\", line 33, in get_array\n",
      "    self.context.get_cached_data_array(data_hash, binary)\n",
      "  File \"/home/yeriel/workspace/sqm_batimetria/env/lib/python3.10/site-packages/trame_vtk/modules/vtk/serializers/synchronization_context.py\", line 35, in get_cached_data_array\n",
      "    cache_obj = self.data_array_cache[p_md5]\n",
      "KeyError: '587a4cec65c9a5f0ace6146735d34ba3_405L'\n",
      "\n"
     ]
    }
   ],
   "source": [
    "points_norm = data_points.get('points_norm', None)\n",
    "points_one_component  = points_norm[np.where(points_norm[:,-1] == 1)][:,:-1]\n",
    "points_two_component = points_norm[np.where(points_norm[:,-1] == 2)][:,:-1]\n",
    "\n",
    "plot_pv([points_one_component[:,:3], points_two_component[:,:3]],\n",
    "        ['blue', 'red'])"
   ]
  },
  {
   "cell_type": "markdown",
   "metadata": {},
   "source": [
    "## Estimate the water surface for the points with two Gaussians"
   ]
  },
  {
   "cell_type": "code",
   "execution_count": 15,
   "metadata": {},
   "outputs": [
    {
     "data": {
      "image/png": "[encoded data removed]",
      "text/plain": [
       "<Figure size 640x480 with 1 Axes>"
      ]
     },
     "metadata": {},
     "output_type": "display_data"
    }
   ],
   "source": [
    "z_two_component = points_two_component[:,2]\n",
    "gmm = GaussianMixture(n_components=2)\n",
    "gmm.fit(z_two_component.reshape(-1, 1))\n",
    "\n",
    "plot_gmm(z_two_component, gmm)"
   ]
  },
  {
   "cell_type": "code",
   "execution_count": 18,
   "metadata": {},
   "outputs": [
    {
     "name": "stdout",
     "output_type": "stream",
     "text": [
      "0.2708310177352706\n"
     ]
    },
    {
     "data": {
      "application/vnd.jupyter.widget-view+json": {
       "model_id": "d7a91b2c9c02428cbdca61c4eb41de5e",
       "version_major": 2,
       "version_minor": 0
      },
      "text/plain": [
       "Widget(value='<iframe src=\"http://localhost:42291/index.html?ui=P_0x7855dc64b940_4&reconnect=auto\" class=\"pyvi…"
      ]
     },
     "metadata": {},
     "output_type": "display_data"
    }
   ],
   "source": [
    "delta = 0.05\n",
    "water_threshold = np.max(gmm.means_)\n",
    "print(water_threshold)\n",
    "water_points = points_two_component[(z_two_component < water_threshold + delta) & (z_two_component >= water_threshold -delta)]\n",
    "below_water = points_two_component[z_two_component < water_threshold - delta]\n",
    "above_water  = points_two_component[z_two_component > water_threshold + delta]\n",
    "\n",
    "plot_pv([water_points[:,:3], above_water[:,:3], below_water[:,:3]],\n",
    "        ['blue', 'red', 'green'])\n"
   ]
  },
  {
   "cell_type": "markdown",
   "metadata": {},
   "source": [
    "### Estimate the water plane with ransac"
   ]
  },
  {
   "cell_type": "code",
   "execution_count": 11,
   "metadata": {},
   "outputs": [
    {
     "name": "stdout",
     "output_type": "stream",
     "text": [
      "Ecuación del plano: 0.9386450608640043x + 0.002447063884178132y + -0.3448760090147706z + -0.7407374021959263 = 0\n"
     ]
    },
    {
     "data": {
      "application/vnd.jupyter.widget-view+json": {
       "model_id": "a444c81c30ea4b9d90015bc9116a25b6",
       "version_major": 2,
       "version_minor": 0
      },
      "text/plain": [
       "Widget(value='<iframe src=\"http://localhost:42291/index.html?ui=P_0x7855c92e7550_2&reconnect=auto\" class=\"pyvi…"
      ]
     },
     "metadata": {},
     "output_type": "display_data"
    },
    {
     "name": "stdout",
     "output_type": "stream",
     "text": [
      "-100000000.0\n"
     ]
    }
   ],
   "source": [
    "pv.global_theme.allow_empty_mesh = True\n",
    "\n",
    "# Extraer las coordenadas x, y, z\n",
    "X = points_two_component[:, 0]\n",
    "Y = points_two_component[:, 1]\n",
    "Z = points_two_component[:, 2]\n",
    "\n",
    " # Load your point cloud as a numpy array (N, 3)\n",
    "plane1 = pyrsc.Plane()\n",
    "best_eq, best_inliers = plane1.fit(water_points[:,:3], 0.01)\n",
    "\n",
    "# Si deseas obtener la ecuación del plano en forma Ax + By + Cz + D = 0\n",
    "A, B, C, D  = best_eq \n",
    "print(f\"Ecuación del plano: {A}x + {B}y + {C}z + {D} = 0\")\n",
    "\n",
    "z_water = D if round(A) == 0 and round(B) == 0 and round(abs(C)) == 1 else -1e8\n",
    "\n",
    "# Calcular la distancia de cada punto al plano\n",
    "distances = (A * X + B * Y + C * Z + D) / np.sqrt(A**2 + B**2 + C**2)\n",
    "\n",
    "# Crear una malla de puntos para el plano\n",
    "xx, yy = np.meshgrid(np.linspace(X.min(), X.max(), 10), np.linspace(Y.min(), Y.max(), 10))\n",
    "zz = (-A * xx - B * yy - D) / C\n",
    "\n",
    "# # Crear una superficie para el plano\n",
    "plane = pv.StructuredGrid(xx, yy, zz)\n",
    "\n",
    "# # Crear un plotter de PyVista\n",
    "plotter = pv.Plotter()\n",
    "\n",
    "# Separar los puntos por encima y por debajo del plano\n",
    "below_plane = distances < -delta\n",
    "above_plane = distances >= delta\n",
    "\n",
    "# # Añadir los puntos por debajo del plano en verde\n",
    "points_below = pv.PolyData(np.column_stack((X[below_plane], Y[below_plane], Z[below_plane])))\n",
    "plotter.add_points(points_below, color='green', point_size=5)\n",
    "\n",
    "# # Añadir los puntos por encima del plano en rojo\n",
    "points_above = pv.PolyData(np.column_stack((X[above_plane], Y[above_plane], Z[above_plane])))\n",
    "plotter.add_points(points_above, color='red', point_size=5)\n",
    "\n",
    "# # Añadir la superficie del plano al plotter\n",
    "plotter.add_mesh(plane, color='blue', opacity=0.5)\n",
    "\n",
    "# # Mostrar el plotter\n",
    "plotter.show()\n",
    "print(z_water)"
   ]
  },
  {
   "cell_type": "code",
   "execution_count": 12,
   "metadata": {},
   "outputs": [],
   "source": [
    "above_below = np.ma.mask_or(above_plane, below_plane, shrink=False)  \n",
    "\n",
    "pool_points = points_two_component[above_below]\n",
    "all_points = np.concatenate((points_one_component, pool_points), axis=0)\n",
    "\n",
    "x = all_points[:, 0]\n",
    "y = all_points[:,1]\n",
    "z = all_points[:,2]\n",
    "\n",
    "x = x * (data_points.get('x_max') - data_points.get('x_min'))\n",
    "y = y * (data_points.get('y_max') - data_points.get('y_min'))\n",
    "z = z * (data_points.get('z_max') - data_points.get('z_min')) \n",
    "\n",
    "\n",
    "# plt.title(f' {POOL_NAME} - Pool Undersurface')\n",
    "# plt.scatter(x, y, c=z, cmap='viridis_r', s=0.02)\n",
    "# plt.colorbar()\n",
    "# plt.savefig(f'data/img/{POOL_NAME}_map_distance.png', dpi=300)\n",
    "# plt.show()"
   ]
  },
  {
   "cell_type": "code",
   "execution_count": 13,
   "metadata": {},
   "outputs": [],
   "source": [
    "import pandas as pd\n",
    "\n",
    "points_one_component_s = np.hstack((points_one_component, np.full((points_one_component.shape[0], 1), 0)))\n",
    "water_points_s = np.hstack((water_points, np.full((water_points.shape[0], 1), 1)))\n",
    "below_water_s = np.hstack(( below_water, np.full((below_water.shape[0], 1), 2)))\n",
    "above_water_s = np.hstack((above_water, np.full(( above_water.shape[0], 1), 3)))\n",
    "\n",
    "all_points = np.concatenate((\n",
    "    points_one_component_s,\n",
    "    water_points_s,\n",
    "    below_water_s, \n",
    "    above_water_s \n",
    "    ), axis=0)\n",
    "\n",
    "df = pd.DataFrame(all_points, columns=['x', 'y', 'z', 'r', 'g', 'b', 'class'])\n",
    "df.to_csv(f'data/{PROJECT_NAME}/{POOL_NAME}.csv', index=False)\n"
   ]
  },
  {
   "cell_type": "code",
   "execution_count": 14,
   "metadata": {},
   "outputs": [
    {
     "data": {
      "text/plain": [
       "{'points_norm': array([[0.83806831, 0.00514582, 0.39729413, ..., 0.5990566 , 0.64454976,\n",
       "         2.        ],\n",
       "        [0.83794448, 0.00583192, 0.38451872, ..., 0.67924528, 0.73933649,\n",
       "         2.        ],\n",
       "        [0.83763905, 0.00612316, 0.38439306, ..., 0.61792453, 0.67298578,\n",
       "         2.        ],\n",
       "        ...,\n",
       "        [0.99877412, 0.94351216, 0.51063919, ..., 0.83018868, 0.82464455,\n",
       "         1.        ],\n",
       "        [0.99922402, 0.94331741, 0.51001089, ..., 0.8254717 , 0.82464455,\n",
       "         1.        ],\n",
       "        [0.99921989, 0.94407856, 0.50963391, ..., 0.85377358, 0.85308057,\n",
       "         1.        ]], shape=(1876568, 7)),\n",
       " 'x_min': np.float64(558853.67275),\n",
       " 'x_max': np.float64(558914.2415),\n",
       " 'y_min': np.float64(7394549.584),\n",
       " 'y_max': np.float64(7394689.5035),\n",
       " 'z_min': np.float64(2343.65375),\n",
       " 'z_max': np.float64(2349.6222500000003)}"
      ]
     },
     "execution_count": 14,
     "metadata": {},
     "output_type": "execute_result"
    }
   ],
   "source": [
    "data_points"
   ]
  },
  {
   "cell_type": "code",
   "execution_count": null,
   "metadata": {},
   "outputs": [],
   "source": []
  }
 ],
 "metadata": {
  "kernelspec": {
   "display_name": "env",
   "language": "python",
   "name": "python3"
  },
  "language_info": {
   "codemirror_mode": {
    "name": "ipython",
    "version": 3
   },
   "file_extension": ".py",
   "mimetype": "text/x-python",
   "name": "python",
   "nbconvert_exporter": "python",
   "pygments_lexer": "ipython3",
   "version": "3.10.12"
  }
 },
 "nbformat": 4,
 "nbformat_minor": 2
}
