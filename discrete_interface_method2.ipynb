{
 "cells": [
  {
   "cell_type": "code",
   "execution_count": 9,
   "metadata": {},
   "outputs": [],
   "source": [
    "import pyvista as pv \n",
    "import pyransac3d as pyrsc\n",
    "\n",
    "from utils.statistical_tools import normalize_points"
   ]
  },
  {
   "cell_type": "code",
   "execution_count": 10,
   "metadata": {},
   "outputs": [],
   "source": [
    "POOL_NAME = '3-4'\n",
    "PROJECT_NAME = 'pozas_clasificada_110125_100_10_120'\n",
    "PATH_PROJECT_LAS = f'data/{PROJECT_NAME}/{POOL_NAME}_clasificada_col_0_row_0_19s.las'\n",
    "LIMIT = -1"
   ]
  },
  {
   "cell_type": "code",
   "execution_count": 11,
   "metadata": {},
   "outputs": [],
   "source": [
    "import laspy as lp\n",
    "import numpy as np\n",
    "\n",
    "def read_las_file(las_path: str):\n",
    "    try:\n",
    "        return lp.read(las_path)\n",
    "    except Exception as e:\n",
    "        print(f\"Error reading {las_path}: {e}\")\n",
    "        return None\n",
    "    \n",
    "def normalize_colors(colors):\n",
    "    rgba = colors - colors.min(axis=0)\n",
    "    rgba = rgba / rgba.max(axis=0)\n",
    "    return rgba #(rgba * 255).astype(np.uint8)\n",
    "\n",
    "def get_points_and_colors_from_las(las_path: str, limit: int = -1):\n",
    "    if not isinstance(las_path, str):\n",
    "        raise ValueError(\"las_path must be a string.\")\n",
    "    if not isinstance(limit, int) or limit < -1:\n",
    "        raise ValueError(\"limit must be an integer greater than or equal to -1.\")\n",
    "\n",
    "    las = read_las_file(las_path)\n",
    "    if las is None:\n",
    "        raise ValueError(\"No valid LAS file found.\")\n",
    "\n",
    "    points = np.vstack((las.x, las.y, las.z)).transpose()\n",
    "    colors = np.vstack((las.red, las.green, las.blue)).transpose()\n",
    "\n",
    "    if limit > 0:\n",
    "        idxs = np.random.choice(len(points), limit, replace=False)\n",
    "        points = points[idxs]\n",
    "        colors = colors[idxs]\n",
    "\n",
    "    rgba_colors = normalize_colors(colors)\n",
    "    return points, colors, rgba_colors, np.expand_dims(las.classification, -1)"
   ]
  },
  {
   "cell_type": "code",
   "execution_count": 12,
   "metadata": {},
   "outputs": [
    {
     "name": "stdout",
     "output_type": "stream",
     "text": [
      "(3686228, 7)\n",
      "Ecuación del plano: 0.0015600772290981521x + 0.0025687419502828696y + 0.9999954838517183z + -0.12196155490630915 = 0\n"
     ]
    },
    {
     "data": {
      "application/vnd.jupyter.widget-view+json": {
       "model_id": "c842a23f13f14c70a5fd1240e4d0dcbc",
       "version_major": 2,
       "version_minor": 0
      },
      "text/plain": [
       "Widget(value='<iframe src=\"http://localhost:40815/index.html?ui=P_0x7bad35882f20_0&reconnect=auto\" class=\"pyvi…"
      ]
     },
     "metadata": {},
     "output_type": "display_data"
    }
   ],
   "source": [
    "las_points, las_colors, las_rgba_colors, las_clasification = get_points_and_colors_from_las(PATH_PROJECT_LAS, limit=LIMIT)\n",
    "las_points_norm, x_min, x_max, y_min, y_max, z_min, z_max = normalize_points(las_points[:,:3])\n",
    "\n",
    "las_data_points = np.hstack((las_points_norm, las_rgba_colors, las_clasification))\n",
    "#las_data_points = np.hstack((las_points, las_rgba_colors, las_clasification))\n",
    "\n",
    "other_points = las_data_points[las_data_points[:,-1] != 65]\n",
    "water_points = las_data_points[las_data_points[:,-1] == 65]\n",
    "print(water_points.shape)\n",
    "plane = pyrsc.Plane()\n",
    "best_eq, best_inliers = plane.fit(water_points[:,:3], 0.01)\n",
    "A, B, C, D  = best_eq \n",
    "print(f\"Ecuación del plano: {A}x + {B}y + {C}z + {D} = 0\")\n",
    "\n",
    "delta = 0.05\n",
    "X = other_points[:, 0]\n",
    "Y = other_points[:, 1]\n",
    "Z = other_points[:, 2]\n",
    "\n",
    "# Calcular la distancia de cada punto al plano\n",
    "distances = (A * X + B * Y + C * Z + D) / np.sqrt(A**2 + B**2 + C**2)\n",
    "\n",
    "# Crear una malla de puntos para el plano\n",
    "xx, yy = np.meshgrid(np.linspace(X.min(), X.max(), 10), np.linspace(Y.min(), Y.max(), 10))\n",
    "zz = (-A * xx - B * yy - D) / C\n",
    "\n",
    "# # Crear una superficie para el plano\n",
    "plane = pv.StructuredGrid(xx, yy, zz)\n",
    "\n",
    "# # Crear un plotter de PyVista\n",
    "plotter = pv.Plotter()\n",
    "\n",
    "# Separar los puntos por encima y por debajo del plano\n",
    "below_plane = distances < -delta\n",
    "above_plane = distances >= delta\n",
    "\n",
    "water_points_pv = pv.PolyData(water_points[:,:3])\n",
    "plotter.add_points(water_points_pv, color='yellow', point_size=5)\n",
    "\n",
    "# # Añadir los puntos por debajo del plano en verde\n",
    "points_below = pv.PolyData(np.column_stack((X[below_plane], Y[below_plane], Z[below_plane])))\n",
    "plotter.add_points(points_below, color='green', point_size=5)\n",
    "\n",
    "# # Añadir los puntos por encima del plano en rojo\n",
    "points_above = pv.PolyData(np.column_stack((X[above_plane], Y[above_plane], Z[above_plane])))\n",
    "plotter.add_points(points_above, color='red', point_size=5)\n",
    "\n",
    "# # Añadir la superficie del plano al plotter\n",
    "plotter.add_mesh(plane, color='blue', opacity=0.5)\n",
    "\n",
    "# # Mostrar el plotter\n",
    "plotter.show()\n",
    "\n",
    "# water_points_z = water_points[:,2]\n",
    "# gmm = GaussianMixture(n_components=1)\n",
    "# gmm.fit(water_points_z.reshape(-1, 1))\n",
    "# plot_gmm(water_points_z, gmm)\n",
    "\n",
    "# water_points_z_mean = np.max(gmm.means_)\n",
    "# print(water_points_z_mean)\n",
    "\n",
    "# noise_points = other_points[other_points[:,2] > water_points_z_mean]\n",
    "# under_water_points = other_points[other_points[:,2] < water_points_z_mean]\n",
    " \n",
    "# plot_pv([water_points[:,:3], noise_points[:,:3], under_water_points[:,:3]],\n",
    "#         ['blue', 'red', 'green'])"
   ]
  },
  {
   "cell_type": "code",
   "execution_count": 19,
   "metadata": {},
   "outputs": [],
   "source": [
    "import pandas as pd\n",
    "\n",
    "R = other_points[:, 3]\n",
    "G = other_points[:, 4]\n",
    "B = other_points[:, 5]\n",
    "\n",
    "all_points = np.column_stack((X[below_plane], Y[below_plane], Z[below_plane], R[below_plane], G[below_plane], B[below_plane]))\n",
    "\n",
    "\n",
    "df = pd.DataFrame(all_points, columns=['x', 'y', 'z', 'r', 'g', 'b'])\n",
    "df.to_csv(f'3-4.csv', index=False)\n"
   ]
  },
  {
   "cell_type": "code",
   "execution_count": 20,
   "metadata": {},
   "outputs": [
    {
     "data": {
      "text/plain": [
       "np.float64(0.9450095259212878)"
      ]
     },
     "execution_count": 20,
     "metadata": {},
     "output_type": "execute_result"
    }
   ],
   "source": [
    "np.mean(Z[below_plane] * (z_max - z_min))"
   ]
  },
  {
   "cell_type": "code",
   "execution_count": 21,
   "metadata": {},
   "outputs": [
    {
     "name": "stdout",
     "output_type": "stream",
     "text": [
      "250.95924999995623\n"
     ]
    }
   ],
   "source": [
    "print(x_max - x_min)"
   ]
  },
  {
   "cell_type": "code",
   "execution_count": 22,
   "metadata": {},
   "outputs": [
    {
     "name": "stdout",
     "output_type": "stream",
     "text": [
      "280.1910000005737\n"
     ]
    }
   ],
   "source": [
    "print(y_max -  y_min)"
   ]
  },
  {
   "cell_type": "code",
   "execution_count": 23,
   "metadata": {},
   "outputs": [
    {
     "data": {
      "text/plain": [
       "np.float64(14.376749999999902)"
      ]
     },
     "execution_count": 23,
     "metadata": {},
     "output_type": "execute_result"
    }
   ],
   "source": [
    "z_max - z_min"
   ]
  },
  {
   "cell_type": "code",
   "execution_count": 24,
   "metadata": {},
   "outputs": [
    {
     "data": {
      "text/plain": [
       "np.float64(-0.12196155490630915)"
      ]
     },
     "execution_count": 24,
     "metadata": {},
     "output_type": "execute_result"
    }
   ],
   "source": [
    "D"
   ]
  },
  {
   "cell_type": "code",
   "execution_count": null,
   "metadata": {},
   "outputs": [],
   "source": []
  }
 ],
 "metadata": {
  "kernelspec": {
   "display_name": "env",
   "language": "python",
   "name": "python3"
  },
  "language_info": {
   "codemirror_mode": {
    "name": "ipython",
    "version": 3
   },
   "file_extension": ".py",
   "mimetype": "text/x-python",
   "name": "python",
   "nbconvert_exporter": "python",
   "pygments_lexer": "ipython3",
   "version": "3.10.12"
  }
 },
 "nbformat": 4,
 "nbformat_minor": 2
}
