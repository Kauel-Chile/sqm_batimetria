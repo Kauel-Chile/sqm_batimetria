{
 "cells": [
  {
   "cell_type": "code",
   "execution_count": 2,
   "id": "9151cb04",
   "metadata": {},
   "outputs": [],
   "source": [
    "import os\n",
    "import json\n",
    "import csv\n",
    "\n",
    "def extract_data_from_json(file_path):\n",
    "    with open(file_path, 'r') as file:\n",
    "        data = json.load(file)\n",
    "        poza, date, h, v, f = os.path.basename(file_path)[:-5].split('_')\n",
    "        return {\n",
    "            \"poza\": poza,\n",
    "            'fecha': date,\n",
    "            'altura_vuelo': h[:-1],\n",
    "            'velocidad_vuelo': v[:-2],\n",
    "            'frecuencia': f[:-3],  \n",
    "            \"altura_sal_cm_lidar\": data.get(\"altura sal (cm) (lidar)\", None),\n",
    "            \"area_poza_medida\": data.get(\"Area poza medida\", None),\n",
    "            \"volumen_sales\": data.get(\"volumen_sales\", None),\n",
    "            \"rasante_m\": data.get(\"data_sqm\", {}).get(\"Rasante (m)\", None),\n",
    "            \"cota_salmuera_sqm_m\": data.get(\"data_sqm\", {}).get(\"Cota Salmuera sqm (m)\", None),\n",
    "            \"cota_sal_sqm_m\": data.get(\"data_sqm\", {}).get(\"Cota Sal sqm (m)\", None),\n",
    "            \"sal_sqm_cm\": data.get(\"data_sqm\", {}).get(\"Sal sqm (cm)\", None),\n",
    "            \"salmuera_sqm_cm\": data.get(\"data_sqm\", {}).get(\"Salmuera sqm (cm)\", None),\n",
    "        }\n",
    "\n",
    "def save_to_csv(data, output_file):\n",
    "    keys = data[0].keys()\n",
    "    with open(output_file, 'w', newline='') as output_file:\n",
    "        dict_writer = csv.DictWriter(output_file, fieldnames=keys)\n",
    "        dict_writer.writeheader()\n",
    "        dict_writer.writerows(data)\n",
    "\n",
    "def main():\n",
    "    input_directory = 'data/vuelos/results'\n",
    "    output_file = 'data/vuelos/results.csv'\n",
    "    data = []\n",
    "\n",
    "    for file_name in sorted(os.listdir(input_directory)):\n",
    "        if file_name.endswith('.json'):\n",
    "            file_path = os.path.join(input_directory, file_name)\n",
    "            data.append(extract_data_from_json(file_path))\n",
    "\n",
    "    save_to_csv(data, output_file)\n",
    "\n",
    "if __name__ == \"__main__\":\n",
    "    main()"
   ]
  },
  {
   "cell_type": "code",
   "execution_count": null,
   "id": "5a1c25b4",
   "metadata": {},
   "outputs": [],
   "source": []
  },
  {
   "cell_type": "code",
   "execution_count": null,
   "id": "2242ec55",
   "metadata": {},
   "outputs": [],
   "source": []
  }
 ],
 "metadata": {
  "kernelspec": {
   "display_name": "Python 3",
   "language": "python",
   "name": "python3"
  },
  "language_info": {
   "codemirror_mode": {
    "name": "ipython",
    "version": 3
   },
   "file_extension": ".py",
   "mimetype": "text/x-python",
   "name": "python",
   "nbconvert_exporter": "python",
   "pygments_lexer": "ipython3",
   "version": "3.10.12"
  }
 },
 "nbformat": 4,
 "nbformat_minor": 5
}
