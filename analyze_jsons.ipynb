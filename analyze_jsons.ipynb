{
 "cells": [
  {
   "cell_type": "code",
   "execution_count": 2,
   "metadata": {},
   "outputs": [
    {
     "name": "stdout",
     "output_type": "stream",
     "text": [
      "123\n",
      "['/home/diego/Downloads/data_sqm/en plataforma/pam5_04052025_100m_10ms_100khz.json', '/home/diego/Downloads/data_sqm/en plataforma/pam5_04052025_150m_10ms_100khz.json', '/home/diego/Downloads/data_sqm/en plataforma/rbs_04052025_150m_10ms_100khz.json', '/home/diego/Downloads/data_sqm/en plataforma/9d_04072025_100m_10ms_100khz.json', '/home/diego/Downloads/data_sqm/en plataforma/7a_04012025_100m_10ms_100khz.json', '/home/diego/Downloads/data_sqm/en plataforma/rbs_04052025_150m_7ms_100khz.json', '/home/diego/Downloads/data_sqm/en plataforma/hk16-sectorb_04102025_150m_10ms_100khz.json', '/home/diego/Downloads/data_sqm/en plataforma/9f_04072025_150m_10ms_100khz.json', '/home/diego/Downloads/data_sqm/en plataforma/7a_04012025_100m_10ms_50khz.json', '/home/diego/Downloads/data_sqm/en plataforma/6a_04012025_100m_10ms_100khz.json', '/home/diego/Downloads/data_sqm/en plataforma/hk16-sectorc_04102025_150m_7ms_100khz.json', '/home/diego/Downloads/data_sqm/en plataforma/9e_04072025_150m_10ms_100khz.json', '/home/diego/Downloads/data_sqm/en plataforma/k10-sectorb_04082025_100m_10ms_100khz.json', '/home/diego/Downloads/data_sqm/en plataforma/k10-sectorc_04082025_150m_10ms_100khz.json', '/home/diego/Downloads/data_sqm/en plataforma/3b_04052025_100m_10ms_100khz.json', '/home/diego/Downloads/data_sqm/en plataforma/7a_03312025_100m_7ms_100khz.json', '/home/diego/Downloads/data_sqm/en plataforma/7i_05202025_100m_7ms_100khz.json', '/home/diego/Downloads/data_sqm/en plataforma/7b_04062025_150m_10ms_100khz.json', '/home/diego/Downloads/data_sqm/en plataforma/rbs_04052025_100m_10ms_100khz.json', '/home/diego/Downloads/data_sqm/en plataforma/hk15-sectorb_04102025_150m_7ms_100khz.json', '/home/diego/Downloads/data_sqm/en plataforma/9e_04072025_100m_10ms_100khz.json', '/home/diego/Downloads/data_sqm/en plataforma/h22_04042025_100m_10ms_100khz.json', '/home/diego/Downloads/data_sqm/en plataforma/3b_04052025_150m_7ms_100khz.json', '/home/diego/Downloads/data_sqm/en plataforma/6a_04012025_150m_10ms_50khz.json', '/home/diego/Downloads/data_sqm/en plataforma/hk15-sectora_04102025_150m_7ms_100khz.json', '/home/diego/Downloads/data_sqm/en plataforma/7a_04012025_150m_10ms_100khz.json', '/home/diego/Downloads/data_sqm/en plataforma/k9-sectora_04082025_100m_10ms_100khz.json', '/home/diego/Downloads/data_sqm/en plataforma/rbn_04052025_150m_10ms_100khz.json', '/home/diego/Downloads/data_sqm/en plataforma/hk14-sectord_04192025_150m_10ms_100khz.json', '/home/diego/Downloads/data_sqm/en plataforma/hk16-sectord_04102025_150m_10ms_100khz.json', '/home/diego/Downloads/data_sqm/en plataforma/h22_04042025_100m_7ms_100khz.json', '/home/diego/Downloads/data_sqm/en plataforma/7a_04152025_100m_7ms_100khz.json', '/home/diego/Downloads/data_sqm/en plataforma/pam6_04052025_100m_10ms_100khz.json', '/home/diego/Downloads/data_sqm/en plataforma/5a_04012025_100m_10ms_50khz.json', '/home/diego/Downloads/data_sqm/en plataforma/k10-sectord_04082025_100m_10ms_100khz.json', '/home/diego/Downloads/data_sqm/en plataforma/5a_04152025_100m_7ms_100khz.json', '/home/diego/Downloads/data_sqm/en plataforma/3a-v2_04142025_100m_10ms_100khz.json', '/home/diego/Downloads/data_sqm/en plataforma/hk14-sectorc_04192025_150m_10ms_100khz.json', '/home/diego/Downloads/data_sqm/en plataforma/pam2-v2_04142025_100m_10ms_100khz.json', '/home/diego/Downloads/data_sqm/en plataforma/5a_04012025_150m_10ms_100khz.json', '/home/diego/Downloads/data_sqm/en plataforma/pam2-v1_04142025_100m_10ms_100khz.json', '/home/diego/Downloads/data_sqm/en plataforma/hk15-sectorc_04102025_150m_10ms_100khz.json', '/home/diego/Downloads/data_sqm/en plataforma/6a_04152025_100m_7ms_100khz.json', '/home/diego/Downloads/data_sqm/en plataforma/1b_04052025_150m_10ms_100khz.json', '/home/diego/Downloads/data_sqm/en plataforma/hk15-sectorc_04102025_150m_7ms_100khz.json', '/home/diego/Downloads/data_sqm/en plataforma/3a-v1_04142025_100m_7ms_100khz.json', '/home/diego/Downloads/data_sqm/en plataforma/9f_04072025_100m_10ms_100khz.json', '/home/diego/Downloads/data_sqm/en plataforma/k9-sectora_04082025_150m_10ms_100khz.json', '/home/diego/Downloads/data_sqm/en plataforma/h22_04042025_150m_10ms_100khz.json', '/home/diego/Downloads/data_sqm/en plataforma/5a_04152025_100m_10ms_100khz.json', '/home/diego/Downloads/data_sqm/en plataforma/hk13-sectorb_04192025_150m_10ms_100khz.json', '/home/diego/Downloads/data_sqm/en plataforma/6a_04012025_150m_10ms_100khz.json', '/home/diego/Downloads/data_sqm/en plataforma/9d_04072025_150m_10ms_100khz.json', '/home/diego/Downloads/data_sqm/en plataforma/3a-v1_04142025_100m_10ms_100khz.json', '/home/diego/Downloads/data_sqm/en plataforma/rbn_04052025_100m_10ms_100khz.json', '/home/diego/Downloads/data_sqm/en plataforma/k10-sectord_04082025_150m_7ms_100khz.json', '/home/diego/Downloads/data_sqm/en plataforma/2b_04052025_150m_7ms_100khz.json', '/home/diego/Downloads/data_sqm/en plataforma/k10-sectorb_04082025_150m_10ms_100khz.json', '/home/diego/Downloads/data_sqm/en plataforma/k9-sectora_04082025_150m_7ms_100khz.json', '/home/diego/Downloads/data_sqm/en plataforma/hk15-sectord_04102025_150m_10ms_100khz.json', '/home/diego/Downloads/data_sqm/en plataforma/hk16-sectorb_04102025_150m_7ms_100khz.json', '/home/diego/Downloads/data_sqm/en plataforma/hk13-sectora_04192025_150m_10ms_100khz.json', '/home/diego/Downloads/data_sqm/en plataforma/7a_04152025_150m_7ms_100khz.json', '/home/diego/Downloads/data_sqm/en plataforma/1b_04052025_150m_7ms_100khz.json', '/home/diego/Downloads/data_sqm/en plataforma/k10-sectorc_04082025_150m_7ms_100khz.json', '/home/diego/Downloads/data_sqm/en plataforma/2a-v1_04142025_100m_7ms_100khz.json', '/home/diego/Downloads/data_sqm/en plataforma/5a_04152025_150m_10ms_100khz.json', '/home/diego/Downloads/data_sqm/en plataforma/7a_04152025_100m_10ms_100khz.json', '/home/diego/Downloads/data_sqm/en plataforma/k9-sectora_04082025_100m_7ms_100khz.json', '/home/diego/Downloads/data_sqm/en plataforma/7a_04152025_150m_10ms_100khz.json', '/home/diego/Downloads/data_sqm/en plataforma/hk16-sectord_04102025_150m_7ms_100khz.json', '/home/diego/Downloads/data_sqm/en plataforma/7a_04012025_150m_10ms_50khz.json', '/home/diego/Downloads/data_sqm/en plataforma/2a-v2_04142025_100m_7ms_100khz.json', '/home/diego/Downloads/data_sqm/en plataforma/2b_04052025_100m_10ms_100khz.json', '/home/diego/Downloads/data_sqm/en plataforma/k10-sectord_04082025_150m_10ms_100khz.json', '/home/diego/Downloads/data_sqm/en plataforma/hk14-sectorb_04192025_150m_10ms_100khz.json', '/home/diego/Downloads/data_sqm/en plataforma/pam2-v2_04232025_100m_7ms_100khz.json', '/home/diego/Downloads/data_sqm/en plataforma/pam2-v2_04142025_100m_7ms_100khz.json', '/home/diego/Downloads/data_sqm/en plataforma/hk13-sectorc_04192025_150m_10ms_100khz.json', '/home/diego/Downloads/data_sqm/en plataforma/hk16-sectora_04102025_150m_10ms_100khz.json', '/home/diego/Downloads/data_sqm/en plataforma/pam4_04052025_150m_7ms_100khz.json', '/home/diego/Downloads/data_sqm/en plataforma/k10-sectord_04082025_100m_7ms_100khz.json', '/home/diego/Downloads/data_sqm/en plataforma/hk15-sectorb_04102025_150m_10ms_100khz.json', '/home/diego/Downloads/data_sqm/en plataforma/hk15-sectora_04102025_150m_10ms_100khz.json', '/home/diego/Downloads/data_sqm/en plataforma/2a-v1_04142025_100m_10ms_100khz.json', '/home/diego/Downloads/data_sqm/en plataforma/2b_04052025_150m_10ms_100khz.json', '/home/diego/Downloads/data_sqm/en plataforma/hk16-sectorc_04102025_150m_10ms_100khz.json', '/home/diego/Downloads/data_sqm/en plataforma/hk15-sectord_04102025_150m_7ms_100khz.json', '/home/diego/Downloads/data_sqm/en plataforma/pam6_04052025_150m_10ms_100khz.json', '/home/diego/Downloads/data_sqm/en plataforma/6a_04152025_150m_10ms_100khz.json', '/home/diego/Downloads/data_sqm/en plataforma/5a_03312025_100m_7ms_100khz.json', '/home/diego/Downloads/data_sqm/en plataforma/6a_03312025_100m_7ms_100khz.json', '/home/diego/Downloads/data_sqm/en plataforma/7b_04062025_100m_10ms_100khz.json', '/home/diego/Downloads/data_sqm/en plataforma/6a_04012025_100m_10ms_50khz.json', '/home/diego/Downloads/data_sqm/en plataforma/hk13-sectord_04192025_150m_10ms_100khz.json', '/home/diego/Downloads/data_sqm/en plataforma/pam2_04112025_150m_7ms_100khz.json', '/home/diego/Downloads/data_sqm/en plataforma/k10-sectorb_04082025_100m_7ms_100khz.json', '/home/diego/Downloads/data_sqm/en plataforma/5a_04012025_150m_10ms_50khz.json', '/home/diego/Downloads/data_sqm/en plataforma/7h_05202025_100m_7ms_100khz.json', '/home/diego/Downloads/data_sqm/en plataforma/k10-sectorb_04082025_150m_7ms_100khz.json', '/home/diego/Downloads/data_sqm/en plataforma/6a_04152025_150m_7ms_100khz.json', '/home/diego/Downloads/data_sqm/en plataforma/pam5_04052025_150m_7ms_100khz.json', '/home/diego/Downloads/data_sqm/en plataforma/hk14-sectora_04192025_150m_10ms_100khz.json', '/home/diego/Downloads/data_sqm/en plataforma/k10-sectorc_04082025_100m_7ms_100khz.json', '/home/diego/Downloads/data_sqm/en plataforma/6b_04062025_100m_10ms_100khz.json', '/home/diego/Downloads/data_sqm/en plataforma/pam2-v1_04142025_100m_7ms_100khz.json', '/home/diego/Downloads/data_sqm/en plataforma/5a_04152025_150m_7ms_100khz.json', '/home/diego/Downloads/data_sqm/en plataforma/k10-sectorc_04082025_100m_10ms_100khz.json', '/home/diego/Downloads/data_sqm/en plataforma/pam6_04052025_150m_7ms_100khz.json', '/home/diego/Downloads/data_sqm/en plataforma/6b_04062025_150m_10ms_100khz.json', '/home/diego/Downloads/data_sqm/en plataforma/5a_04012025_100m_10ms_100khz.json', '/home/diego/Downloads/data_sqm/en plataforma/8b_04062025_150m_10ms_100khz.json', '/home/diego/Downloads/data_sqm/en plataforma/6a_04152025_100m_10ms_100khz.json', '/home/diego/Downloads/data_sqm/en plataforma/pam4_04052025_150m_10ms_100khz.json', '/home/diego/Downloads/data_sqm/en plataforma/2a-v2_04142025_100m_10ms_100khz.json', '/home/diego/Downloads/data_sqm/en plataforma/rbn_04052025_150m_7ms_100khz.json', '/home/diego/Downloads/data_sqm/en plataforma/8b_04062025_100m_10ms_100khz.json', '/home/diego/Downloads/data_sqm/en plataforma/hk16-sectora_04102025_150m_7ms_100khz.json', '/home/diego/Downloads/data_sqm/en plataforma/pam2-v1_04232025_100m_7ms_100khz.json', '/home/diego/Downloads/data_sqm/en plataforma/3b_04052025_150m_10ms_100khz.json', '/home/diego/Downloads/data_sqm/en plataforma/3a-v2_04142025_100m_7ms_100khz.json', '/home/diego/Downloads/data_sqm/en plataforma/pam2_04112025_100m_7ms_100khz.json', '/home/diego/Downloads/data_sqm/en plataforma/1b_04052025_100m_10ms_100khz.json']\n"
     ]
    }
   ],
   "source": [
    "import glob\n",
    "import json\n",
    "main_path = '/home/diego/Downloads/data_sqm/en plataforma/**.json'\n",
    "\n",
    "paths = glob.glob(main_path, recursive=True)\n",
    "# paths_2a = [path for path in paths if '2a' in path]\n",
    "# paths_3a = [path for path in paths if '3a' in path]\n",
    "# paths_5a = [path for path in paths if '5a' in path]\n",
    "# paths_6a = [path for path in paths if '6a' in path]\n",
    "# paths_7a = [path for path in paths if '7a' in path]\n",
    "# paths_pam = [path for path in paths if 'pam' in path]\n",
    "# selected_paths = [*paths_2a, *paths_3a, *paths_5a, *paths_6a, *paths_7a, *paths_pam]\n",
    "# other_paths = [path for path in paths if path not in selected_paths]\n",
    "# paths = other_paths\n",
    "print(len(paths))\n",
    "print(paths)"
   ]
  },
  {
   "cell_type": "code",
   "execution_count": 26,
   "metadata": {},
   "outputs": [
    {
     "name": "stdout",
     "output_type": "stream",
     "text": [
      "123\n"
     ]
    }
   ],
   "source": [
    "import glob\n",
    "import json\n",
    "main_path = '/home/diego/Downloads/data_sqm/en plataforma/**.json'\n",
    "\n",
    "paths = glob.glob(main_path, recursive=True)\n",
    "print(len(paths))"
   ]
  },
  {
   "cell_type": "code",
   "execution_count": 31,
   "metadata": {},
   "outputs": [],
   "source": [
    "area_total = 0\n",
    "for path in paths:\n",
    "    with open(path, 'r') as f:\n",
    "        data = json.load(f)\n",
    "        area_m2 = data['Area poza medida']\n",
    "        area_total += area_m2"
   ]
  },
  {
   "cell_type": "code",
   "execution_count": 32,
   "metadata": {},
   "outputs": [
    {
     "data": {
      "text/plain": [
       "6275448.1022701645"
      ]
     },
     "execution_count": 32,
     "metadata": {},
     "output_type": "execute_result"
    }
   ],
   "source": [
    "(area_total/0.95)"
   ]
  },
  {
   "cell_type": "code",
   "execution_count": 33,
   "metadata": {},
   "outputs": [],
   "source": [
    "list_of_percentages = []\n",
    "for path in paths:\n",
    "    file_name = path.split('/')[-1][:-5]\n",
    "    poza = file_name.split('_')[0]\n",
    "    poza = poza.upper()\n",
    "    fecha = file_name.split('_')[1]\n",
    "    fecha = fecha[2:4]+'-'+fecha[:2]+'-'+fecha[4:]\n",
    "    altura = file_name.split('_')[2][:-1]\n",
    "    velocidad = file_name.split('_')[3][:-2]\n",
    "    frecuencia = file_name.split('_')[4][:-3]\n",
    "    with open(path, 'r') as f:\n",
    "        data = json.load(f)\n",
    "        area_m2 = data['Area poza medida']\n",
    "        data_sqm = data['data_sqm']\n",
    "        rasante = data_sqm['Rasante (m)']\n",
    "        cota_salmuera_sqm = data_sqm['Cota Salmuera sqm (m)']\n",
    "        cota_sal_sqm = data_sqm['Cota Sal sqm (m)']\n",
    "        sal_sqm = data_sqm['Sal sqm (cm)']\n",
    "        salmuera_sqm = data_sqm['Salmuera sqm (cm)']\n",
    "\n",
    "        altura_promedio = data['altura sal (cm) (lidar)']\n",
    "        altura_promedio_diagonal_1 = data['diagonal1']['mean']*100\n",
    "        altura_promedio_diagonal_2 = data['diagonal2']['mean']*100\n",
    "\n",
    "        dif_total_diag_1 = altura_promedio_diagonal_1-altura_promedio\n",
    "        dif_percentage_total_diag_1 = (dif_total_diag_1)/altura_promedio*100\n",
    "        dif_total_diag_2 = altura_promedio_diagonal_2-altura_promedio\n",
    "        dif_percentage_total_diag_2 = (dif_total_diag_2)/altura_promedio*100\n",
    "\n",
    "        list_of_percentages.append([poza, fecha, altura, velocidad, frecuencia, area_m2, rasante, cota_sal_sqm, cota_salmuera_sqm, sal_sqm, salmuera_sqm, altura_promedio, altura_promedio_diagonal_1, dif_total_diag_1, dif_percentage_total_diag_1, altura_promedio_diagonal_2, dif_total_diag_2,dif_percentage_total_diag_2])"
   ]
  },
  {
   "cell_type": "code",
   "execution_count": 34,
   "metadata": {},
   "outputs": [],
   "source": [
    "import numpy as np\n",
    "import pandas as pd\n",
    "# Nombre, Fecha, Altura, Velocidad, Frecuencia, Area, Altura Promedio Sal (AS), Altura Sal D1, Diferencia D1-AS, % Diferencia D1-AS, Altura Sal D2, Diferencia D2-AS, % Diferencia D2-AS\n",
    "# Agregar data sqm\n",
    "# Falta estado de vuelos #2 área\n",
    "\n",
    "array_of_percentages = np.array(list_of_percentages)\n",
    "df_of_percentages = pd.DataFrame(array_of_percentages, columns=['Poza', 'Fecha [dd-mm-aa]', 'Altura [m]', 'Velocidad [m/s]', 'Frecuencia [kHz]', 'Área [m^2]', 'Rasante [m]', 'Cota Sal SQM [m]', 'Cota Salmuera SQM [m]', 'Altura Sal SQM [cm]', 'Altura Salmuera SQM [cm]', 'Altura Promedio Sal (AS) [cm]', 'Altura Sal D1 [cm]', 'Diferencia D1-AS [cm]', 'Diferencia D1-AS [%]', 'Altura Sal D2 [cm]', 'Diferencia D2-AS [cm]', 'Diferencia D2-AS [%]'])\n",
    "df_of_percentages\n",
    "# export df\n",
    "df_of_percentages.to_csv('/home/diego/Downloads/ResumenAlturas.csv')"
   ]
  },
  {
   "cell_type": "code",
   "execution_count": 35,
   "metadata": {},
   "outputs": [
    {
     "data": {
      "text/html": [
       "<div>\n",
       "<style scoped>\n",
       "    .dataframe tbody tr th:only-of-type {\n",
       "        vertical-align: middle;\n",
       "    }\n",
       "\n",
       "    .dataframe tbody tr th {\n",
       "        vertical-align: top;\n",
       "    }\n",
       "\n",
       "    .dataframe thead th {\n",
       "        text-align: right;\n",
       "    }\n",
       "</style>\n",
       "<table border=\"1\" class=\"dataframe\">\n",
       "  <thead>\n",
       "    <tr style=\"text-align: right;\">\n",
       "      <th></th>\n",
       "      <th>Resumen Diferencia D1-HS</th>\n",
       "      <th>Resumen Diferencia D2-HS</th>\n",
       "    </tr>\n",
       "  </thead>\n",
       "  <tbody>\n",
       "    <tr>\n",
       "      <th>Promedio</th>\n",
       "      <td>8.878049</td>\n",
       "      <td>2300.405098</td>\n",
       "    </tr>\n",
       "    <tr>\n",
       "      <th>Mediana</th>\n",
       "      <td>10.000000</td>\n",
       "      <td>2300.416000</td>\n",
       "    </tr>\n",
       "    <tr>\n",
       "      <th>Desviación Estándar</th>\n",
       "      <td>1.451578</td>\n",
       "      <td>0.160341</td>\n",
       "    </tr>\n",
       "    <tr>\n",
       "      <th>Mínimo</th>\n",
       "      <td>7.000000</td>\n",
       "      <td>2299.760000</td>\n",
       "    </tr>\n",
       "    <tr>\n",
       "      <th>Máximo</th>\n",
       "      <td>10.000000</td>\n",
       "      <td>2300.772000</td>\n",
       "    </tr>\n",
       "  </tbody>\n",
       "</table>\n",
       "</div>"
      ],
      "text/plain": [
       "                     Resumen Diferencia D1-HS  Resumen Diferencia D2-HS\n",
       "Promedio                             8.878049               2300.405098\n",
       "Mediana                             10.000000               2300.416000\n",
       "Desviación Estándar                  1.451578                  0.160341\n",
       "Mínimo                               7.000000               2299.760000\n",
       "Máximo                              10.000000               2300.772000"
      ]
     },
     "execution_count": 35,
     "metadata": {},
     "output_type": "execute_result"
    }
   ],
   "source": [
    "idx_d1, idx_d2 = 3, 6\n",
    "new_array_of_percentages = array_of_percentages[:, [idx_d1, idx_d2]].astype(float)\n",
    "mean = np.mean(new_array_of_percentages, axis=0)\n",
    "median = np.median(new_array_of_percentages, axis=0)\n",
    "std = np.std(new_array_of_percentages, axis=0)\n",
    "min = np.min(new_array_of_percentages, axis=0)\n",
    "max = np.max(new_array_of_percentages, axis=0)\n",
    "columns = ['Resumen Diferencia D1-HS', 'Resumen Diferencia D2-HS']\n",
    "indexes = ['Promedio', 'Mediana', 'Desviación Estándar', 'Mínimo', 'Máximo']\n",
    "df = pd.DataFrame([mean, median, std, min, max], columns=columns, index=indexes)\n",
    "df"
   ]
  },
  {
   "cell_type": "code",
   "execution_count": 7,
   "metadata": {},
   "outputs": [],
   "source": [
    "# remove outliers\n",
    "def remove_outliers(data, threshold=3):\n",
    "    q1 = np.percentile(data, 10)\n",
    "    q3 = np.percentile(data, 90)\n",
    "    iqr = q3 - q1\n",
    "    lower_bound = q1 - threshold * iqr\n",
    "    upper_bound = q3 + threshold * iqr\n",
    "    return data[(data > lower_bound) & (data < upper_bound)]"
   ]
  },
  {
   "cell_type": "code",
   "execution_count": 8,
   "metadata": {},
   "outputs": [
    {
     "data": {
      "image/png": "[encoded data removed]",
      "text/plain": [
       "<Figure size 640x480 with 1 Axes>"
      ]
     },
     "metadata": {},
     "output_type": "display_data"
    },
    {
     "name": "stdout",
     "output_type": "stream",
     "text": [
      "Promedio: -2.015733648293886, Mediana: -1.094930763434398, Desviación: 9.428494342304887\n"
     ]
    },
    {
     "data": {
      "image/png": "[encoded data removed]",
      "text/plain": [
       "<Figure size 640x480 with 1 Axes>"
      ]
     },
     "metadata": {},
     "output_type": "display_data"
    },
    {
     "name": "stdout",
     "output_type": "stream",
     "text": [
      "Promedio: -0.030629851493585235, Mediana: 0.3106051063178441, Desviación: 10.159442062167214\n"
     ]
    }
   ],
   "source": [
    "import matplotlib.pyplot as plt\n",
    "vd1hs = array_of_percentages[:, idx_d1].astype(float)\n",
    "vd1hs = remove_outliers(vd1hs)\n",
    "vd2hs = array_of_percentages[:, idx_d2].astype(float)\n",
    "vd2hs = remove_outliers(vd2hs)\n",
    "plt.hist(vd1hs, bins=100)\n",
    "plt.xlabel('D1-HS')\n",
    "plt.ylabel('Frecuencia')\n",
    "plt.title('Histograma de Diferencia D1-HS')\n",
    "plt.show()\n",
    "mean_vd1 = np.mean(vd1hs)\n",
    "median_vd1 = np.median(vd1hs)\n",
    "std_vd1 = np.std(vd1hs)\n",
    "print(f\"Promedio: {mean_vd1}, Mediana: {median_vd1}, Desviación: {std_vd1}\")\n",
    "plt.hist(vd2hs, bins=100)\n",
    "plt.xlabel('D2-HS')\n",
    "plt.ylabel('Frecuencia')\n",
    "plt.title('Histograma de Diferencia D2-HS')\n",
    "plt.show()\n",
    "mean_vd2 = np.mean(vd2hs)\n",
    "median_vd2 = np.median(vd2hs)\n",
    "std_vd2 = np.std(vd2hs)\n",
    "print(f\"Promedio: {mean_vd2}, Mediana: {median_vd2}, Desviación: {std_vd2}\")"
   ]
  },
  {
   "cell_type": "code",
   "execution_count": null,
   "metadata": {},
   "outputs": [],
   "source": []
  },
  {
   "cell_type": "code",
   "execution_count": null,
   "metadata": {},
   "outputs": [],
   "source": []
  }
 ],
 "metadata": {
  "kernelspec": {
   "display_name": "venv",
   "language": "python",
   "name": "python3"
  },
  "language_info": {
   "codemirror_mode": {
    "name": "ipython",
    "version": 3
   },
   "file_extension": ".py",
   "mimetype": "text/x-python",
   "name": "python",
   "nbconvert_exporter": "python",
   "pygments_lexer": "ipython3",
   "version": "3.12.3"
  }
 },
 "nbformat": 4,
 "nbformat_minor": 2
}
