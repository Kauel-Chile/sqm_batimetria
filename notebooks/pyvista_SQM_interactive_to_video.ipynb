{
 "cells": [
  {
   "cell_type": "markdown",
   "metadata": {},
   "source": [
    "# Point Clouds Processing"
   ]
  },
  {
   "cell_type": "markdown",
   "metadata": {},
   "source": [
    "## Import libraries"
   ]
  },
  {
   "cell_type": "code",
   "execution_count": 1,
   "metadata": {},
   "outputs": [],
   "source": [
    "import pyvista as pv\n",
    "import glob\n",
    "import laspy as lp\n",
    "import numpy as np\n",
    "from sklearn.neighbors import KDTree\n",
    "import matplotlib.pyplot as plt"
   ]
  },
  {
   "cell_type": "markdown",
   "metadata": {},
   "source": [
    "## Search for path of interest"
   ]
  },
  {
   "cell_type": "code",
   "execution_count": null,
   "metadata": {},
   "outputs": [],
   "source": [
    "main_path = '/home/diego/workspace/SQM/SQM_project/Day 1 Pools 120m 50&100kHz/09_EXPORT/*.las'\n",
    "#main_path = '/home/diego/workspace/SQM/SQM_project/Day 5 Big Pools 100kHz 220m/*'\n",
    "paths = sorted(glob.glob(main_path))\n",
    "paths"
   ]
  },
  {
   "cell_type": "markdown",
   "metadata": {},
   "source": [
    "## Load and subsampling (if necessary) point cloud"
   ]
  },
  {
   "cell_type": "code",
   "execution_count": 3,
   "metadata": {},
   "outputs": [],
   "source": [
    "def get_points_and_colors(las_paths: list, limit: int = -1):\n",
    "    '''\n",
    "    Get the points and colors from a list of las files. \n",
    "    If limit is set to -1, all points are returned.\n",
    "    Otherwise, limit points are randomly selected.\n",
    "\n",
    "    Parameters:\n",
    "    las_paths: list\n",
    "        List of paths to the las files.\n",
    "    limit: int\n",
    "        Number of points to be selected. Default is -1.\n",
    "    '''\n",
    "    points = []\n",
    "    colors = []\n",
    "    classes = []\n",
    "    for las_path in las_paths:\n",
    "        las = lp.read(las_path)\n",
    "        print(f\"Number of points for {las_path}: \", len(las))\n",
    "        print(f\"Classifications: {np.unique(las.classification)}\")\n",
    "        \n",
    "        points.append(np.vstack((las.x, las.y, las.z)).transpose())\n",
    "        colors.append(np.vstack((las.red, las.green, las.blue)).transpose())\n",
    "        classes.append(las.classification)\n",
    "    \n",
    "    points = np.vstack(points)\n",
    "    colors = np.vstack(colors)\n",
    "    classes = np.vstack(classes)\n",
    "\n",
    "    if limit > 0:\n",
    "        idxs = np.random.choice(len(points), limit, replace=False)\n",
    "        points = points[idxs]\n",
    "        colors = colors[idxs]\n",
    "        classes = classes[idxs]\n",
    "        \n",
    "    print(\"Number of points after selection: \", len(points))\n",
    "    # normalize colors\n",
    "    rgba = colors - colors.min(axis=0)\n",
    "    # set between 0 and 1\n",
    "    rgba = rgba / rgba.max(axis=0)\n",
    "    # set between 0 and 255\n",
    "    rgba_colors = (rgba * 255).astype(np.uint8)\n",
    "    return points, colors, rgba_colors, classes"
   ]
  },
  {
   "cell_type": "code",
   "execution_count": null,
   "metadata": {},
   "outputs": [],
   "source": [
    "points, colors, rgba_colors, classes = get_points_and_colors([paths[0]], limit=-1)"
   ]
  },
  {
   "cell_type": "code",
   "execution_count": 5,
   "metadata": {},
   "outputs": [],
   "source": [
    "point_cloud = pv.PolyData(points)"
   ]
  },
  {
   "cell_type": "code",
   "execution_count": null,
   "metadata": {},
   "outputs": [],
   "source": [
    "# Add the RGBA colors to the point cloud as a scalar array\n",
    "point_cloud[\"colors\"] = rgba_colors\n",
    "\n",
    "# Create the PyVista plotter\n",
    "plotter = pv.Plotter()\n",
    "\n",
    "# Add aligned coordinate axes\n",
    "plotter.add_axes()\n",
    "\n",
    "# Add the point cloud with colors\n",
    "plotter.add_mesh(point_cloud, scalars=\"colors\", rgb=True, pickable=True)\n",
    "\n",
    "# List to store picked points\n",
    "picked_points = []\n",
    "\n",
    "# Callback function to handle point picking\n",
    "def callback(point):\n",
    "    # Add the picked point to the list\n",
    "    picked_points.append(point)\n",
    "\n",
    "    # If two points are picked, create a perpendicular plane\n",
    "    if len(picked_points) == 2:\n",
    "        # Extract the two points\n",
    "        p1, p2 = picked_points\n",
    "\n",
    "        # Compute the normal vector of the plane (vector between the points)\n",
    "        normal = np.array(p2) - np.array(p1)\n",
    "        # Rotate the normal vector by 90 degrees to get a perpendicular vector\n",
    "        normal = np.array([normal[1], -normal[0], normal[2]])\n",
    "        normal = normal / np.linalg.norm(normal)  # Normalize the vector\n",
    "\n",
    "        # Compute the midpoint between the two points (center of the plane)\n",
    "        midpoint = (np.array(p1) + np.array(p2)) / 2\n",
    "\n",
    "        # Define the plane using PyVista's pv.Plane\n",
    "        plane = pv.Plane(center=midpoint, direction=normal, i_size=100, j_size=1000)\n",
    "\n",
    "        # Add the plane to the plotter\n",
    "        plotter.add_mesh(plane, color=\"red\", opacity=0.5, name=\"picked_plane\")\n",
    "\n",
    "        # Update the render window to display the new plane\n",
    "        plotter.render()\n",
    "\n",
    "        # Reset picked points for the next selection\n",
    "        #picked_points.clear()\n",
    "\n",
    "# Enable point picking and assign the callback\n",
    "plotter.enable_point_picking(callback=callback, show_message=True)\n",
    "\n",
    "# Show the plotter\n",
    "plotter.show()"
   ]
  },
  {
   "cell_type": "code",
   "execution_count": null,
   "metadata": {},
   "outputs": [],
   "source": [
    "# List to store picked points\n",
    "picked_points"
   ]
  },
  {
   "cell_type": "code",
   "execution_count": null,
   "metadata": {},
   "outputs": [],
   "source": [
    "# Tolerance\n",
    "tolerance = 2\n",
    "\n",
    "# Project only in X and Y dimensions\n",
    "point1_xy = picked_points[1][:2]\n",
    "point2_xy = picked_points[0][:2]\n",
    "point_cloud_xy = point_cloud.points[:, :2]\n",
    "\n",
    "# Vector of the line segment in the XY-plane\n",
    "line_vector_xy = point2_xy - point1_xy\n",
    "line_length_xy = np.linalg.norm(line_vector_xy)\n",
    "line_unit_vector_xy = line_vector_xy / line_length_xy\n",
    "\n",
    "# Calculate projection of each point onto the line (XY-plane)\n",
    "point_to_p1_vectors_xy = point_cloud_xy - point1_xy\n",
    "projections_xy = np.dot(point_to_p1_vectors_xy, line_unit_vector_xy)\n",
    "\n",
    "# Clamp projections to the segment range [0, line_length_xy]\n",
    "clamped_projections_xy = np.clip(projections_xy, 0, line_length_xy)\n",
    "\n",
    "# Find the closest point on the line for each point (XY-plane)\n",
    "closest_points_on_line_xy = point1_xy + clamped_projections_xy[:, np.newaxis] * line_unit_vector_xy\n",
    "\n",
    "# Calculate perpendicular distances in the XY-plane\n",
    "distances_xy = np.linalg.norm(point_cloud_xy - closest_points_on_line_xy, axis=1)\n",
    "\n",
    "# Mask: points within the tolerance in XY-plane\n",
    "mask = distances_xy <= tolerance\n",
    "\n",
    "# Extract points (including all Z-values for selected points)\n",
    "diagonal_points = point_cloud.points[mask]\n",
    "print(f\"Number of points in the box: {len(diagonal_points)}\")\n",
    "new_point_cloud = pv.PolyData(diagonal_points)\n",
    "new_point_cloud[\"colors\"] = rgba_colors[mask]\n",
    "\n",
    "# Create the PyVista plotter\n",
    "plotter = pv.Plotter()\n",
    "\n",
    "# Add the point cloud with a clip box, using the colors\n",
    "plotter.add_mesh(new_point_cloud, scalars=\"colors\", rgb=True, pickable=True)\n",
    "\n",
    "# Show the plot\n",
    "plotter.show()"
   ]
  },
  {
   "cell_type": "code",
   "execution_count": null,
   "metadata": {},
   "outputs": [],
   "source": [
    "plt.figure(figsize=(20, 10))\n",
    "selected_points = diagonal_points\n",
    "selected_colors = rgba_colors[mask]\n",
    "plt.scatter(selected_points[:, 1]*-1, selected_points[:, 2], c=selected_colors/255, s=25)\n",
    "plt.xlabel('Valores eje Y')\n",
    "plt.ylabel('Valores eje Z')\n",
    "plt.title('Corte transversal de la poza')\n",
    "# Adjust the aspect ratio of the plot to make sure both axes are proportional\n",
    "plt.gca().set_aspect(25)\n",
    "plt.show()"
   ]
  },
  {
   "cell_type": "code",
   "execution_count": null,
   "metadata": {},
   "outputs": [],
   "source": []
  },
  {
   "cell_type": "code",
   "execution_count": null,
   "metadata": {},
   "outputs": [],
   "source": []
  },
  {
   "cell_type": "code",
   "execution_count": null,
   "metadata": {},
   "outputs": [],
   "source": []
  },
  {
   "cell_type": "code",
   "execution_count": null,
   "metadata": {},
   "outputs": [],
   "source": []
  },
  {
   "cell_type": "code",
   "execution_count": null,
   "metadata": {},
   "outputs": [],
   "source": [
    "new_points = point_cloud.points\n",
    "# extract all points with np.mean(x)\n",
    "median_x = np.median(new_points[:, 0])\n",
    "# select indexes by two conditions\n",
    "selected_indexes = np.where((new_points[:, 0] > median_x - 0.5) & (new_points[:, 0] < median_x + 0.5))[0]\n",
    "selected_points = new_points[selected_indexes]\n",
    "selected_colors = rgba_colors[selected_indexes]\n",
    "# plot selected points in scatter 2d plot in real axis values\n",
    "plt.scatter(selected_points[:, 1], selected_points[:, 2], c=selected_colors/255)\n",
    "plt.xlabel('Y')\n",
    "plt.ylabel('Z')\n",
    "plt.show()\n",
    "#picked_points = []"
   ]
  },
  {
   "cell_type": "code",
   "execution_count": null,
   "metadata": {},
   "outputs": [],
   "source": [
    "import numpy as np\n",
    "import pyvista as pv\n",
    "from sklearn.decomposition import PCA\n",
    "\n",
    "\n",
    "class PCARoutine:\n",
    "    def __init__(self, points):\n",
    "        self.original_points = points\n",
    "        self.points = points  # Points to visualize\n",
    "        self.output = pv.PolyData(points)\n",
    "        self.kwargs = {\n",
    "            'scale': 1.0,\n",
    "            'rotate_x': 0.0,\n",
    "            'rotate_y': 0.0,\n",
    "            'rotate_z': 0.0,\n",
    "        }\n",
    "        self.update()\n",
    "\n",
    "    def __call__(self, param, value):\n",
    "        self.kwargs[param] = value\n",
    "        self.update()\n",
    "\n",
    "    def update(self):\n",
    "        # Step 1: Translate the point cloud to align its centroid with the origin\n",
    "        centroid = np.mean(self.original_points, axis=0)\n",
    "        points_centered = self.original_points - centroid\n",
    "\n",
    "        # Step 2: Apply scaling\n",
    "        points_scaled = points_centered * self.kwargs['scale']\n",
    "\n",
    "        # Step 3: Use PCA for alignment\n",
    "        pca = PCA(n_components=3)\n",
    "        pca.fit(points_scaled)\n",
    "        rotation_matrix = pca.components_.T\n",
    "\n",
    "        # Rotate points using updated angles\n",
    "        angles = np.radians([\n",
    "            self.kwargs['rotate_x'],\n",
    "            self.kwargs['rotate_y'],\n",
    "            self.kwargs['rotate_z'],\n",
    "        ])\n",
    "        rx = np.array([[1, 0, 0],\n",
    "                       [0, np.cos(angles[0]), -np.sin(angles[0])],\n",
    "                       [0, np.sin(angles[0]), np.cos(angles[0])]])\n",
    "        ry = np.array([[np.cos(angles[1]), 0, np.sin(angles[1])],\n",
    "                       [0, 1, 0],\n",
    "                       [-np.sin(angles[1]), 0, np.cos(angles[1])]])\n",
    "        rz = np.array([[np.cos(angles[2]), -np.sin(angles[2]), 0],\n",
    "                       [np.sin(angles[2]), np.cos(angles[2]), 0],\n",
    "                       [0, 0, 1]])\n",
    "\n",
    "        rotation_matrix_combined = rz @ ry @ rx\n",
    "        points_rotated = points_scaled @ rotation_matrix_combined\n",
    "\n",
    "        # Update the PyVista mesh\n",
    "        self.points = points_rotated\n",
    "        self.output.points = points_rotated\n",
    "\n",
    "# Create the PCA routine\n",
    "engine = PCARoutine(local_maxima)\n",
    "\n",
    "# Visualization\n",
    "p = pv.Plotter()\n",
    "engine.output[\"colors\"]= rgba_colors\n",
    " # Add the point cloud with a clip box, using the colors\n",
    "p.add_mesh_clip_box(engine.output, scalars=\"colors\", rgb=True)\n",
    "#p.add_mesh(engine.output, render_points_as_spheres=True, point_size=8, color='blue')\n",
    "\n",
    "# Add sliders\n",
    "# p.add_slider_widget(\n",
    "#     callback=lambda value: engine('scale', value),\n",
    "#     rng=[0.5, 2.0],\n",
    "#     value=1.0,\n",
    "#     title=\"Scale\",\n",
    "#     pointa=(0.025, 0.1),\n",
    "#     pointb=(0.31, 0.1),\n",
    "#     style='modern',\n",
    "# )\n",
    "p.add_slider_widget(\n",
    "    callback=lambda value: engine('rotate_x', value),\n",
    "    rng=[-180, 180],\n",
    "    value=0,\n",
    "    title=\"Rotate X\",\n",
    "    pointa=(0.025, 0.1),\n",
    "     pointb=(0.31, 0.1),\n",
    "    style='modern',\n",
    ")\n",
    "p.add_slider_widget(\n",
    "    callback=lambda value: engine('rotate_y', value),\n",
    "    rng=[-180, 180],\n",
    "    value=0,\n",
    "    title=\"Rotate Y\",\n",
    "    pointa=(0.35, 0.1),\n",
    "    pointb=(0.64, 0.1),\n",
    "    style='modern',\n",
    ")\n",
    "p.add_slider_widget(\n",
    "    callback=lambda value: engine('rotate_z', value),\n",
    "    rng=[-180, 180],\n",
    "    value=0,\n",
    "    title=\"Rotate Z\",\n",
    "    pointa=(0.67, 0.1),\n",
    "    pointb=(0.96, 0.1),\n",
    "    style='modern',\n",
    ")\n",
    "\n",
    "p.show()"
   ]
  },
  {
   "cell_type": "code",
   "execution_count": 112,
   "metadata": {},
   "outputs": [],
   "source": [
    "# Create a new point cloud with the selected points\n",
    "point_cloud[\"colors\"] = rgba_colors\n",
    "filtered_point_cloud = point_cloud.extract_points(p.box_clipped_meshes[0].cells)"
   ]
  },
  {
   "cell_type": "code",
   "execution_count": null,
   "metadata": {},
   "outputs": [],
   "source": [
    "np.where(classes==65)"
   ]
  },
  {
   "cell_type": "code",
   "execution_count": null,
   "metadata": {},
   "outputs": [],
   "source": [
    "point_cloud.points.shape"
   ]
  },
  {
   "cell_type": "code",
   "execution_count": null,
   "metadata": {},
   "outputs": [],
   "source": [
    "# water points are classified as 65\n",
    "water_points = point_cloud.points[np.where(classes == 65)]\n",
    "#water_colors = rgba_colors[np.where(classes == 65)]\n",
    "water_cloud = pv.PolyData(water_points)\n",
    "#water_cloud['colors'] = water_colors\n",
    "# underwater points are classified as 66\n",
    "underwater_points = point_cloud.points[np.where(classes == 66)]\n",
    "#underwater_colors = rgba_colors[np.where(classes == 66)]\n",
    "underwater_cloud = pv.PolyData(underwater_points)\n",
    "#underwater_cloud['colors'] = underwater_colors"
   ]
  },
  {
   "cell_type": "code",
   "execution_count": null,
   "metadata": {},
   "outputs": [],
   "source": [
    "new_plotter = pv.Plotter()\n",
    "new_plotter.add_mesh(filtered_point_cloud, show_edges=False, scalars=\"colors\", rgb=True)\n",
    "new_plotter.show()"
   ]
  },
  {
   "cell_type": "code",
   "execution_count": null,
   "metadata": {},
   "outputs": [],
   "source": [
    "filtered_point_cloud"
   ]
  },
  {
   "cell_type": "code",
   "execution_count": 118,
   "metadata": {},
   "outputs": [],
   "source": [
    "local_z_points = filtered_point_cloud.points[:,2]"
   ]
  },
  {
   "cell_type": "code",
   "execution_count": 119,
   "metadata": {},
   "outputs": [],
   "source": [
    "import numpy as np\n",
    "from sklearn.mixture import GaussianMixture\n",
    "\n",
    "def find_gaussian_components(data, max_components=10, threshold=1e-3):\n",
    "    \"\"\"\n",
    "    Quickly find the Gaussian distributions that compose a given distribution.\n",
    "    \n",
    "    Args:\n",
    "        data (np.ndarray): Input data (1D or 2D array).\n",
    "        max_components (int): Maximum number of components to test.\n",
    "        threshold (float): Minimum weight threshold to filter out negligible components.\n",
    "    \n",
    "    Returns:\n",
    "        dict: A dictionary containing the means, covariances, and weights of the Gaussian components.\n",
    "    \"\"\"\n",
    "    # Fit Gaussian Mixture Model (GMM)\n",
    "    gmm = GaussianMixture(n_components=max_components, random_state=42).fit(data.reshape(-1, 1))\n",
    "    \n",
    "    # Filter components with significant weights\n",
    "    significant_indices = gmm.weights_ > threshold\n",
    "    means = gmm.means_[significant_indices].flatten()\n",
    "    covariances = gmm.covariances_[significant_indices].flatten()\n",
    "    weights = gmm.weights_[significant_indices]\n",
    "\n",
    "    # sort by means in ascending order\n",
    "    sorted_indices = np.argsort(means)\n",
    "    means = means[sorted_indices]\n",
    "    covariances = covariances[sorted_indices]\n",
    "    weights = weights[sorted_indices]\n",
    "    \n",
    "    # Return significant components\n",
    "    return {\n",
    "        \"means\": means,\n",
    "        \"covariances\": covariances,\n",
    "        \"weights\": weights\n",
    "    }\n"
   ]
  },
  {
   "cell_type": "code",
   "execution_count": 120,
   "metadata": {},
   "outputs": [],
   "source": [
    "data = local_z_points"
   ]
  },
  {
   "cell_type": "code",
   "execution_count": 121,
   "metadata": {},
   "outputs": [],
   "source": [
    "components = find_gaussian_components(data, max_components=2, threshold=0.1)"
   ]
  },
  {
   "cell_type": "code",
   "execution_count": null,
   "metadata": {},
   "outputs": [],
   "source": [
    "components"
   ]
  },
  {
   "cell_type": "code",
   "execution_count": 123,
   "metadata": {},
   "outputs": [],
   "source": [
    "def find_percentile_1_50_99(mean, covariance):\n",
    "    \"\"\"\n",
    "    Find the 1st, 50th, and 99th percentiles of a Gaussian distribution.\n",
    "    \n",
    "    Args:\n",
    "        mean (float): Mean of the Gaussian distribution.\n",
    "        covariance (float): Covariance of the Gaussian distribution.\n",
    "        weight (float): Weight of the Gaussian distribution.\n",
    "    \n",
    "    Returns:\n",
    "        tuple: The 1st, 50th, and 99th percentiles.\n",
    "    \"\"\"\n",
    "    # Calculate the standard deviation\n",
    "    std = np.sqrt(covariance)\n",
    "    \n",
    "    # Calculate the percentiles\n",
    "    p1 = mean - 2.33 * std\n",
    "    p2 = mean\n",
    "    p3 = mean + 2.33 * std\n",
    "    \n",
    "    return p1, p2, p3"
   ]
  },
  {
   "cell_type": "code",
   "execution_count": 124,
   "metadata": {},
   "outputs": [],
   "source": [
    "upper_index = np.argmax(components['means'])\n",
    "upper_point = components['means'][upper_index]\n",
    "upper_covariance = components['covariances'][upper_index]\n",
    "upper_percentiles = find_percentile_1_50_99(upper_point, upper_covariance)\n",
    "lower_index = np.argmin(components['means'])\n",
    "lower_point = components['means'][lower_index]\n",
    "lower_covariance = components['covariances'][lower_index]\n",
    "lower_percentiles = find_percentile_1_50_99(lower_point, lower_covariance)"
   ]
  },
  {
   "cell_type": "code",
   "execution_count": null,
   "metadata": {},
   "outputs": [],
   "source": [
    "upper_percentiles, lower_percentiles"
   ]
  },
  {
   "cell_type": "code",
   "execution_count": null,
   "metadata": {},
   "outputs": [],
   "source": [
    "plt.hist(data)"
   ]
  },
  {
   "cell_type": "code",
   "execution_count": null,
   "metadata": {},
   "outputs": [],
   "source": [
    "x = np.linspace(data.min(), data.max(), 1000).reshape(-1, 1)\n",
    "plt.figure(figsize=(8, 5))\n",
    "plt.hist(data, bins=100, density=True, alpha=0.5, label='Data')\n",
    "for i, (mean, covariance, weight) in enumerate(zip(components['means'], components['covariances'], components['weights'])):\n",
    "    gaussian = weight * (1 / np.sqrt(2 * np.pi * covariance)) * np.exp(-0.5 * ((x - mean) ** 2) / covariance)\n",
    "    plt.plot(x, gaussian, label=f'Mean: {mean:.2f}')\n",
    "# plot vlines in the 1st, 50th, and 99th percentiles of the upper and lower components\n",
    "#plt.axvline(upper_percentiles[0], color='orange', linestyle='dashed', linewidth=1)\n",
    "#plt.axvline(upper_percentiles[1], color='orange', linestyle='dashed', linewidth=1)\n",
    "plt.axvline(upper_percentiles[2], color='g', linestyle='dashed', linewidth=1)\n",
    "plt.axvline(lower_percentiles[0], color='orange', linestyle='dashed', linewidth=1)\n",
    "plt.axvline(lower_percentiles[1], color='orange', linestyle='dashed', linewidth=1)\n",
    "plt.axvline(lower_percentiles[2], color='orange', linestyle='dashed', linewidth=1)\n",
    "print(upper_percentiles[0], upper_percentiles[1], upper_percentiles[2])\n",
    "print(lower_percentiles[0], lower_percentiles[1], lower_percentiles[2])\n",
    "plt.title(\"Gaussian Components\")\n",
    "plt.xlabel(\"Z values\")\n",
    "plt.ylabel(\"Density\")\n",
    "plt.legend()\n",
    "plt.show()"
   ]
  },
  {
   "cell_type": "code",
   "execution_count": null,
   "metadata": {},
   "outputs": [],
   "source": [
    "# get the diff between the 99th percentile of the upper and 1st percentile of the lower\n",
    "diff_1 = upper_percentiles[2] - lower_percentiles[0]\n",
    "print(\"Difference between the 99th percentile of the upper and 1st percentile of the lower: \", np.round(diff_1*100, 2), \"cm\")\n",
    "# get the diff between the 99th percentile of the upper and 50th percentile of the lower\n",
    "diff_2 = upper_percentiles[2] - lower_percentiles[1]\n",
    "print(\"Difference between the 99th percentile of the upper and 50th percentile of the lower: \", np.round(diff_2*100, 2), \"cm\")\n",
    "# get the diff between the 99th percentile of the upper and 99th percentile of the lower\n",
    "diff_3 = upper_percentiles[2] - lower_percentiles[2]\n",
    "print(\"Difference between the 99th percentile of the upper and 99th percentile of the lower: \", np.round(diff_3*100, 2), \"cm\")\n",
    "mean = (diff_2 + diff_3) / 2\n",
    "print(\"Mean: \", np.round(mean*100, 2), \"cm\")"
   ]
  },
  {
   "cell_type": "code",
   "execution_count": null,
   "metadata": {},
   "outputs": [],
   "source": [
    "(upper_percentiles[2]-lower_percentiles[2])*100"
   ]
  },
  {
   "cell_type": "code",
   "execution_count": null,
   "metadata": {},
   "outputs": [],
   "source": []
  },
  {
   "cell_type": "code",
   "execution_count": null,
   "metadata": {},
   "outputs": [],
   "source": []
  }
 ],
 "metadata": {
  "kernelspec": {
   "display_name": "Python 3",
   "language": "python",
   "name": "python3"
  },
  "language_info": {
   "codemirror_mode": {
    "name": "ipython",
    "version": 3
   },
   "file_extension": ".py",
   "mimetype": "text/x-python",
   "name": "python",
   "nbconvert_exporter": "python",
   "pygments_lexer": "ipython3",
   "version": "3.12.3"
  }
 },
 "nbformat": 4,
 "nbformat_minor": 2
}
