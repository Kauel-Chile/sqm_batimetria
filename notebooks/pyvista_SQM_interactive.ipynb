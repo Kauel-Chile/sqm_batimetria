{
 "cells": [
  {
   "cell_type": "markdown",
   "metadata": {},
   "source": [
    "# Point Clouds Processing"
   ]
  },
  {
   "cell_type": "markdown",
   "metadata": {},
   "source": [
    "## Import libraries"
   ]
  },
  {
   "cell_type": "code",
   "execution_count": 1,
   "metadata": {},
   "outputs": [],
   "source": [
    "import pyvista as pv\n",
    "import glob\n",
    "import laspy as lp\n",
    "import numpy as np\n",
    "from sklearn.neighbors import KDTree\n",
    "import matplotlib.pyplot as plt"
   ]
  },
  {
   "cell_type": "markdown",
   "metadata": {},
   "source": [
    "## Search for path of interest"
   ]
  },
  {
   "cell_type": "code",
   "execution_count": 2,
   "metadata": {},
   "outputs": [
    {
     "data": {
      "text/plain": [
       "['/home/diego/workspace/SQM/SQM_project/Day 1 Pools 120m 50&100kHz/09_EXPORT/250111_184803Record001250111_185605_Scanner_1_0.las',\n",
       " '/home/diego/workspace/SQM/SQM_project/Day 1 Pools 120m 50&100kHz/09_EXPORT/250111_184803Record001250111_185605_Scanner_1_1.las',\n",
       " '/home/diego/workspace/SQM/SQM_project/Day 1 Pools 120m 50&100kHz/09_EXPORT/250111_184803Record002250111_185633_Scanner_1_0.las',\n",
       " '/home/diego/workspace/SQM/SQM_project/Day 1 Pools 120m 50&100kHz/09_EXPORT/250111_184803Record002250111_185633_Scanner_1_1.las',\n",
       " '/home/diego/workspace/SQM/SQM_project/Day 1 Pools 120m 50&100kHz/09_EXPORT/250111_184803Record003250111_185709_Scanner_1_0.las',\n",
       " '/home/diego/workspace/SQM/SQM_project/Day 1 Pools 120m 50&100kHz/09_EXPORT/250111_184803Record003250111_185709_Scanner_1_1.las',\n",
       " '/home/diego/workspace/SQM/SQM_project/Day 1 Pools 120m 50&100kHz/09_EXPORT/250111_184803Record004250111_185759_Scanner_1_0.las',\n",
       " '/home/diego/workspace/SQM/SQM_project/Day 1 Pools 120m 50&100kHz/09_EXPORT/250111_184803Record004250111_185759_Scanner_1_1.las',\n",
       " '/home/diego/workspace/SQM/SQM_project/Day 1 Pools 120m 50&100kHz/09_EXPORT/250111_184803Record005250111_185850_Scanner_1_0.las',\n",
       " '/home/diego/workspace/SQM/SQM_project/Day 1 Pools 120m 50&100kHz/09_EXPORT/250111_184803Record005250111_185850_Scanner_1_1.las',\n",
       " '/home/diego/workspace/SQM/SQM_project/Day 1 Pools 120m 50&100kHz/09_EXPORT/250111_184803Record006250111_185938_Scanner_1_0.las',\n",
       " '/home/diego/workspace/SQM/SQM_project/Day 1 Pools 120m 50&100kHz/09_EXPORT/250111_184803Record006250111_185938_Scanner_1_1.las']"
      ]
     },
     "execution_count": 2,
     "metadata": {},
     "output_type": "execute_result"
    }
   ],
   "source": [
    "main_path = '/home/diego/workspace/SQM/SQM_project/Day 1 Pools 120m 50&100kHz/09_EXPORT/*.las'\n",
    "#main_path = '/home/diego/workspace/SQM/SQM_project/Day 5 Big Pools 100kHz 220m/*'\n",
    "paths = sorted(glob.glob(main_path))\n",
    "paths"
   ]
  },
  {
   "cell_type": "markdown",
   "metadata": {},
   "source": [
    "## Load and subsampling (if necessary) point cloud"
   ]
  },
  {
   "cell_type": "code",
   "execution_count": 3,
   "metadata": {},
   "outputs": [],
   "source": [
    "def read_point_cloud_in_chunks(file_path, chunk_size):\n",
    "    \"\"\"\n",
    "    Reads a LAS/LAZ file in chunks using laspy.\n",
    "    \n",
    "    Parameters:\n",
    "    - file_path: str, path to the LAS/LAZ file.\n",
    "    - chunk_size: int, number of points to load per chunk.\n",
    "    \"\"\"\n",
    "    # Open the LAS/LAZ file\n",
    "    with lp.open(file_path) as las:\n",
    "        print(f\"Total points in the file: {las.header.point_count}\")\n",
    "        \n",
    "        points = []\n",
    "        colors = []\n",
    "        # Read the point cloud in chunks\n",
    "        for c_las in las.chunk_iterator(chunk_size):\n",
    "            points.append(np.vstack((c_las.x, c_las.y, c_las.z)).transpose())\n",
    "            colors.append(np.vstack((c_las.red, c_las.green, c_las.blue)).transpose())\n",
    "            break\n",
    "        points = np.vstack(points)\n",
    "        colors = np.vstack(colors)\n",
    "            \n",
    "        print(\"Number of points after selection: \", len(points))\n",
    "        # normalize colors\n",
    "        rgba = colors - colors.min(axis=0)\n",
    "        # set between 0 and 1\n",
    "        rgba = rgba / rgba.max(axis=0)\n",
    "        # set between 0 and 255\n",
    "        rgba_colors = (rgba * 255).astype(np.uint8)\n",
    "        return points, colors, rgba_colors\n"
   ]
  },
  {
   "cell_type": "code",
   "execution_count": 4,
   "metadata": {},
   "outputs": [],
   "source": [
    "def get_points_and_colors(las_paths: list, limit: int = -1):\n",
    "    '''\n",
    "    Get the points and colors from a list of las files. \n",
    "    If limit is set to -1, all points are returned.\n",
    "    Otherwise, limit points are randomly selected.\n",
    "\n",
    "    Parameters:\n",
    "    las_paths: list\n",
    "        List of paths to the las files.\n",
    "    limit: int\n",
    "        Number of points to be selected. Default is -1.\n",
    "    '''\n",
    "    points = []\n",
    "    colors = []\n",
    "    classes = []\n",
    "    for las_path in las_paths:\n",
    "        las = lp.read(las_path)\n",
    "        print(f\"Number of points for {las_path}: \", len(las))\n",
    "        print(f\"Classifications: {np.unique(las.classification)}\")\n",
    "        \n",
    "        points.append(np.vstack((las.x, las.y, las.z)).transpose())\n",
    "        colors.append(np.vstack((las.red, las.green, las.blue)).transpose())\n",
    "        classes.append(las.classification)\n",
    "    \n",
    "    points = np.vstack(points)\n",
    "    colors = np.vstack(colors)\n",
    "    classes = np.vstack(classes)\n",
    "\n",
    "    if limit > 0:\n",
    "        idxs = np.random.choice(len(points), limit, replace=False)\n",
    "        points = points[idxs]\n",
    "        colors = colors[idxs]\n",
    "        classes = classes[idxs]\n",
    "        \n",
    "    print(\"Number of points after selection: \", len(points))\n",
    "    # normalize colors\n",
    "    rgba = colors - colors.min(axis=0)\n",
    "    # set between 0 and 1\n",
    "    rgba = rgba / rgba.max(axis=0)\n",
    "    # set between 0 and 255\n",
    "    rgba_colors = (rgba * 255).astype(np.uint8)\n",
    "    return points, colors, rgba_colors, classes"
   ]
  },
  {
   "cell_type": "code",
   "execution_count": 18,
   "metadata": {},
   "outputs": [
    {
     "name": "stdout",
     "output_type": "stream",
     "text": [
      "Number of points for /home/diego/workspace/SQM/SQM_project/Day 1 Pools 120m 50&100kHz/09_EXPORT/250111_184803Record005250111_185850_Scanner_1_0.las:  1934796\n",
      "Classifications: [ 0 65 66]\n",
      "Number of points after selection:  1934796\n"
     ]
    }
   ],
   "source": [
    "points, colors, rgba_colors, classes = get_points_and_colors([paths[8]], limit=-1)\n",
    "#points, colors, rgba_colors = read_point_cloud_in_chunks(paths[0], 500_000)\n",
    "#points, colors, rgba_colors = get_points_and_colors(paths, limit=1_000_000)"
   ]
  },
  {
   "cell_type": "code",
   "execution_count": 15,
   "metadata": {},
   "outputs": [],
   "source": [
    "# import numpy as np\n",
    "# import laspy\n",
    "\n",
    "# name = paths[11].split('/')[-1]\n",
    "# print(name)\n",
    "\n",
    "# # Create a header for the LAS file\n",
    "# header = laspy.LasHeader(point_format=3, version=\"1.2\")  # Point format 3 supports colors\n",
    "\n",
    "# # Create a LAS file with points and colors\n",
    "# las = laspy.LasData(header)\n",
    "\n",
    "# # Add points\n",
    "# las.x = points[:, 0]\n",
    "# las.y = points[:, 1]\n",
    "# las.z = points[:, 2]\n",
    "\n",
    "# # Add colors (scaled to 16-bit values as per LAS format)\n",
    "# las.red = (colors[:, 0]).astype(np.uint16)\n",
    "# las.green = (colors[:, 1]).astype(np.uint16)\n",
    "# las.blue = (colors[:, 2]).astype(np.uint16)\n",
    "\n",
    "# # Save to a LAS file\n",
    "# output_file = \"/home/diego/Downloads/new_las/\" + name\n",
    "# las.write(output_file)\n",
    "\n",
    "# print(f\"Saved LAS file to {output_file}\")"
   ]
  },
  {
   "cell_type": "code",
   "execution_count": 19,
   "metadata": {},
   "outputs": [],
   "source": [
    "point_cloud = pv.PolyData(points)\n",
    "# surf_1 = point_cloud.delaunay_2d() # 2D Delaunay triangulation\n",
    "# surf_1.is_all_triangles # It should return False if delaunay_2d() was not applied."
   ]
  },
  {
   "cell_type": "code",
   "execution_count": 17,
   "metadata": {},
   "outputs": [],
   "source": [
    "#plotter = pv.Plotter()\n",
    "#plotter.add_mesh(point_cloud, show_edges=False, scalars=rgba_colors, rgb=True)\n",
    "#plotter.show()"
   ]
  },
  {
   "cell_type": "markdown",
   "metadata": {},
   "source": [
    "## Trying to filter false positive points (muy a mano aún)"
   ]
  },
  {
   "cell_type": "markdown",
   "metadata": {},
   "source": [
    "### By quartiles"
   ]
  },
  {
   "cell_type": "code",
   "execution_count": 20,
   "metadata": {},
   "outputs": [],
   "source": [
    "def plot_hist_with_q(points, q1, q2, q3, title):\n",
    "    '''\n",
    "    Plot a histogram of the z values of the points with two vertical lines at the quantiles q1 and q2.\n",
    "\n",
    "    Parameters:\n",
    "    points: np.array\n",
    "        Array of points.\n",
    "    q1: float\n",
    "        First quantile.\n",
    "    q2: float\n",
    "        Second quantile.\n",
    "    title: str\n",
    "        Title of the plot.\n",
    "    '''\n",
    "    plt.hist(points, bins=500)\n",
    "    plt.axvline(x=q1, color='r', linestyle='dashed', linewidth=2)\n",
    "    plt.axvline(x=q2, color='r', linestyle='dashed', linewidth=2)\n",
    "    plt.axvline(x=q3, color='r', linestyle='dashed', linewidth=2)\n",
    "    plt.title(title)\n",
    "    plt.show()"
   ]
  },
  {
   "cell_type": "code",
   "execution_count": 21,
   "metadata": {},
   "outputs": [],
   "source": [
    "local_maxima = point_cloud.points"
   ]
  },
  {
   "cell_type": "code",
   "execution_count": 20,
   "metadata": {},
   "outputs": [],
   "source": [
    "# import numpy as np\n",
    "# import pyvista as pv\n",
    "# from sklearn.decomposition import PCA\n",
    "\n",
    "# # Step 1: Translate the point cloud to align its centroid with the origin\n",
    "# centroid = np.mean(local_maxima, axis=0)\n",
    "# points_centered = local_maxima - centroid\n",
    "\n",
    "# # Step 2: Use PCA to find the principal axes of the point cloud\n",
    "# pca = PCA(n_components=3)\n",
    "# pca.fit(points_centered)\n",
    "\n",
    "# # Get the rotation matrix to align the point cloud with the PyVista axes\n",
    "# rotation_matrix = pca.components_.T\n",
    "\n",
    "# # Rotate the point cloud\n",
    "# points_aligned = points_centered @ rotation_matrix\n",
    "\n",
    "# # Step 3: Visualize in PyVista\n",
    "# point_cloud = pv.PolyData(points_aligned)\n",
    "# point_cloud[\"Point ID\"] = np.arange(len(points))  # Add an ID for visualization"
   ]
  },
  {
   "cell_type": "code",
   "execution_count": 21,
   "metadata": {},
   "outputs": [],
   "source": [
    "# from sklearn.decomposition import PCA\n",
    "# # Step 1: Compute the centroid of the point cloud\n",
    "# centroid = points.mean(axis=0)\n",
    "\n",
    "# # Step 2: Center the point cloud at the origin\n",
    "# centered_points = points - centroid\n",
    "\n",
    "# # Step 3: Perform PCA to determine principal axes\n",
    "# pca = PCA(n_components=3)\n",
    "# pca.fit(centered_points)\n",
    "\n",
    "# # Principal components (directions of maximum variance)\n",
    "# principal_axes = pca.components_\n",
    "\n",
    "# # Step 4: Construct a rotation matrix to align the principal axes to PyVista axes\n",
    "# # PyVista's default coordinate axes are aligned with the identity matrix\n",
    "# rotation_matrix = principal_axes.T  # Transform from point cloud basis to standard basis\n",
    "\n",
    "# # Step 5: Apply the rotation to the point cloud\n",
    "# aligned_points = centered_points @ rotation_matrix\n",
    "\n",
    "# # Create the aligned point cloud\n",
    "# aligned_point_cloud = pv.PolyData(aligned_points)\n",
    "\n",
    "# # Step 6: Translate the aligned point cloud back to the original scale and position\n",
    "# final_points = aligned_points + centroid\n",
    "# point_cloud = pv.PolyData(final_points)"
   ]
  },
  {
   "cell_type": "code",
   "execution_count": 34,
   "metadata": {},
   "outputs": [
    {
     "data": {
      "application/vnd.jupyter.widget-view+json": {
       "model_id": "e8667075c33f48efa37051054d2bcbb5",
       "version_major": 2,
       "version_minor": 0
      },
      "text/plain": [
       "Widget(value='<iframe src=\"http://localhost:42841/index.html?ui=P_0x71365e9c6f90_9&reconnect=auto\" class=\"pyvi…"
      ]
     },
     "metadata": {},
     "output_type": "display_data"
    }
   ],
   "source": [
    "# Add the RGBA colors to the point cloud as a scalar array\n",
    "point_cloud[\"colors\"] = rgba_colors\n",
    "\n",
    "# Create the PyVista plotter\n",
    "plotter = pv.Plotter()\n",
    "\n",
    "# Add aligned coordinate axes\n",
    "plotter.add_axes()\n",
    "\n",
    "# Add the point cloud with colors\n",
    "plotter.add_mesh(point_cloud, scalars=\"colors\", rgb=True, pickable=True)\n",
    "\n",
    "# List to store picked points\n",
    "picked_points = []\n",
    "\n",
    "# Callback function to handle point picking\n",
    "def callback(point):\n",
    "    # Add the picked point to the list\n",
    "    picked_points.append(point)\n",
    "\n",
    "    # If two points are picked, create a perpendicular plane\n",
    "    if len(picked_points) == 2:\n",
    "        # Extract the two points\n",
    "        p1, p2 = picked_points\n",
    "\n",
    "        # Compute the normal vector of the plane (vector between the points)\n",
    "        normal = np.array(p2) - np.array(p1)\n",
    "        # Rotate the normal vector by 90 degrees to get a perpendicular vector\n",
    "        normal = np.array([normal[1], -normal[0], normal[2]])\n",
    "        normal = normal / np.linalg.norm(normal)  # Normalize the vector\n",
    "\n",
    "        # Compute the midpoint between the two points (center of the plane)\n",
    "        midpoint = (np.array(p1) + np.array(p2)) / 2\n",
    "\n",
    "        # Define the plane using PyVista's pv.Plane\n",
    "        plane = pv.Plane(center=midpoint, direction=normal, i_size=100, j_size=1000)\n",
    "\n",
    "        # Add the plane to the plotter\n",
    "        plotter.add_mesh(plane, color=\"red\", opacity=0.5, name=\"picked_plane\")\n",
    "\n",
    "        # Update the render window to display the new plane\n",
    "        plotter.render()\n",
    "\n",
    "        # Reset picked points for the next selection\n",
    "        #picked_points.clear()\n",
    "\n",
    "# Enable point picking and assign the callback\n",
    "plotter.enable_point_picking(callback=callback, show_message=True)\n",
    "\n",
    "# Show the plotter\n",
    "plotter.show()"
   ]
  },
  {
   "cell_type": "code",
   "execution_count": 35,
   "metadata": {},
   "outputs": [
    {
     "data": {
      "text/plain": [
       "[array([-9.16794859e+06, -7.08981472e+06,  2.34499075e+03]),\n",
       " array([-9.16861385e+06, -7.08931836e+06,  2.34559550e+03])]"
      ]
     },
     "execution_count": 35,
     "metadata": {},
     "output_type": "execute_result"
    }
   ],
   "source": [
    "# List to store picked points\n",
    "picked_points\n",
    "#picked_points= []"
   ]
  },
  {
   "cell_type": "code",
   "execution_count": 44,
   "metadata": {},
   "outputs": [
    {
     "name": "stdout",
     "output_type": "stream",
     "text": [
      "Number of points in the box: 24127\n"
     ]
    },
    {
     "data": {
      "application/vnd.jupyter.widget-view+json": {
       "model_id": "2708674fe17243b8a63cc692dc40ad63",
       "version_major": 2,
       "version_minor": 0
      },
      "text/plain": [
       "Widget(value='<iframe src=\"http://localhost:42841/index.html?ui=P_0x7136523841d0_14&reconnect=auto\" class=\"pyv…"
      ]
     },
     "metadata": {},
     "output_type": "display_data"
    }
   ],
   "source": [
    "# Tolerance\n",
    "tolerance = 2\n",
    "\n",
    "# Project only in X and Y dimensions\n",
    "point1_xy = picked_points[1][:2]\n",
    "point2_xy = picked_points[0][:2]\n",
    "point_cloud_xy = point_cloud.points[:, :2]\n",
    "\n",
    "# Vector of the line segment in the XY-plane\n",
    "line_vector_xy = point2_xy - point1_xy\n",
    "line_length_xy = np.linalg.norm(line_vector_xy)\n",
    "line_unit_vector_xy = line_vector_xy / line_length_xy\n",
    "\n",
    "# Calculate projection of each point onto the line (XY-plane)\n",
    "point_to_p1_vectors_xy = point_cloud_xy - point1_xy\n",
    "projections_xy = np.dot(point_to_p1_vectors_xy, line_unit_vector_xy)\n",
    "\n",
    "# Clamp projections to the segment range [0, line_length_xy]\n",
    "clamped_projections_xy = np.clip(projections_xy, 0, line_length_xy)\n",
    "\n",
    "# Find the closest point on the line for each point (XY-plane)\n",
    "closest_points_on_line_xy = point1_xy + clamped_projections_xy[:, np.newaxis] * line_unit_vector_xy\n",
    "\n",
    "# Calculate perpendicular distances in the XY-plane\n",
    "distances_xy = np.linalg.norm(point_cloud_xy - closest_points_on_line_xy, axis=1)\n",
    "\n",
    "# Mask: points within the tolerance in XY-plane\n",
    "mask = distances_xy <= tolerance\n",
    "\n",
    "# Extract points (including all Z-values for selected points)\n",
    "diagonal_points = point_cloud.points[mask]\n",
    "print(f\"Number of points in the box: {len(diagonal_points)}\")\n",
    "new_point_cloud = pv.PolyData(diagonal_points)\n",
    "new_point_cloud[\"colors\"] = rgba_colors[mask]\n",
    "\n",
    "# Create the PyVista plotter\n",
    "plotter = pv.Plotter()\n",
    "\n",
    "# Add the point cloud with a clip box, using the colors\n",
    "plotter.add_mesh(new_point_cloud, scalars=\"colors\", rgb=True, pickable=True)\n",
    "\n",
    "# Show the plot\n",
    "plotter.show()"
   ]
  },
  {
   "cell_type": "code",
   "execution_count": 45,
   "metadata": {},
   "outputs": [
    {
     "data": {
      "image/png": "[encoded data removed]",
      "text/plain": [
       "<Figure size 2000x1000 with 1 Axes>"
      ]
     },
     "metadata": {},
     "output_type": "display_data"
    }
   ],
   "source": [
    "plt.figure(figsize=(20, 10))\n",
    "selected_points = diagonal_points\n",
    "selected_colors = rgba_colors[mask]\n",
    "plt.scatter(selected_points[:, 1]*-1, selected_points[:, 2], c=selected_colors/255, s=25)\n",
    "plt.xlabel('Valores eje Y')\n",
    "plt.ylabel('Valores eje Z')\n",
    "plt.title('Corte transversal de la poza')\n",
    "# Adjust the aspect ratio of the plot to make sure both axes are proportional\n",
    "plt.gca().set_aspect(25)\n",
    "plt.show()"
   ]
  },
  {
   "cell_type": "code",
   "execution_count": null,
   "metadata": {},
   "outputs": [],
   "source": []
  },
  {
   "cell_type": "code",
   "execution_count": null,
   "metadata": {},
   "outputs": [],
   "source": []
  },
  {
   "cell_type": "code",
   "execution_count": null,
   "metadata": {},
   "outputs": [],
   "source": []
  },
  {
   "cell_type": "code",
   "execution_count": null,
   "metadata": {},
   "outputs": [],
   "source": []
  },
  {
   "cell_type": "code",
   "execution_count": 95,
   "metadata": {},
   "outputs": [
    {
     "data": {
      "image/png": "[encoded data removed]",
      "text/plain": [
       "<Figure size 640x480 with 1 Axes>"
      ]
     },
     "metadata": {},
     "output_type": "display_data"
    }
   ],
   "source": [
    "new_points = point_cloud.points\n",
    "# extract all points with np.mean(x)\n",
    "median_x = np.median(new_points[:, 0])\n",
    "# select indexes by two conditions\n",
    "selected_indexes = np.where((new_points[:, 0] > median_x - 0.5) & (new_points[:, 0] < median_x + 0.5))[0]\n",
    "selected_points = new_points[selected_indexes]\n",
    "selected_colors = rgba_colors[selected_indexes]\n",
    "# plot selected points in scatter 2d plot in real axis values\n",
    "plt.scatter(selected_points[:, 1], selected_points[:, 2], c=selected_colors/255)\n",
    "plt.xlabel('Y')\n",
    "plt.ylabel('Z')\n",
    "plt.show()\n",
    "#picked_points = []"
   ]
  },
  {
   "cell_type": "code",
   "execution_count": 188,
   "metadata": {},
   "outputs": [
    {
     "data": {
      "application/vnd.jupyter.widget-view+json": {
       "model_id": "4ff06c9af7954f2d9610b6e76875c708",
       "version_major": 2,
       "version_minor": 0
      },
      "text/plain": [
       "Widget(value='<iframe src=\"http://localhost:35371/index.html?ui=P_0x7c8997fb80b0_7&reconnect=auto\" class=\"pyvi…"
      ]
     },
     "metadata": {},
     "output_type": "display_data"
    }
   ],
   "source": [
    "import numpy as np\n",
    "import pyvista as pv\n",
    "from sklearn.decomposition import PCA\n",
    "\n",
    "\n",
    "class PCARoutine:\n",
    "    def __init__(self, points):\n",
    "        self.original_points = points\n",
    "        self.points = points  # Points to visualize\n",
    "        self.output = pv.PolyData(points)\n",
    "        self.kwargs = {\n",
    "            'scale': 1.0,\n",
    "            'rotate_x': 0.0,\n",
    "            'rotate_y': 0.0,\n",
    "            'rotate_z': 0.0,\n",
    "        }\n",
    "        self.update()\n",
    "\n",
    "    def __call__(self, param, value):\n",
    "        self.kwargs[param] = value\n",
    "        self.update()\n",
    "\n",
    "    def update(self):\n",
    "        # Step 1: Translate the point cloud to align its centroid with the origin\n",
    "        centroid = np.mean(self.original_points, axis=0)\n",
    "        points_centered = self.original_points - centroid\n",
    "\n",
    "        # Step 2: Apply scaling\n",
    "        points_scaled = points_centered * self.kwargs['scale']\n",
    "\n",
    "        # Step 3: Use PCA for alignment\n",
    "        pca = PCA(n_components=3)\n",
    "        pca.fit(points_scaled)\n",
    "        rotation_matrix = pca.components_.T\n",
    "\n",
    "        # Rotate points using updated angles\n",
    "        angles = np.radians([\n",
    "            self.kwargs['rotate_x'],\n",
    "            self.kwargs['rotate_y'],\n",
    "            self.kwargs['rotate_z'],\n",
    "        ])\n",
    "        rx = np.array([[1, 0, 0],\n",
    "                       [0, np.cos(angles[0]), -np.sin(angles[0])],\n",
    "                       [0, np.sin(angles[0]), np.cos(angles[0])]])\n",
    "        ry = np.array([[np.cos(angles[1]), 0, np.sin(angles[1])],\n",
    "                       [0, 1, 0],\n",
    "                       [-np.sin(angles[1]), 0, np.cos(angles[1])]])\n",
    "        rz = np.array([[np.cos(angles[2]), -np.sin(angles[2]), 0],\n",
    "                       [np.sin(angles[2]), np.cos(angles[2]), 0],\n",
    "                       [0, 0, 1]])\n",
    "\n",
    "        rotation_matrix_combined = rz @ ry @ rx\n",
    "        points_rotated = points_scaled @ rotation_matrix_combined\n",
    "\n",
    "        # Update the PyVista mesh\n",
    "        self.points = points_rotated\n",
    "        self.output.points = points_rotated\n",
    "\n",
    "# Create the PCA routine\n",
    "engine = PCARoutine(local_maxima)\n",
    "\n",
    "# Visualization\n",
    "p = pv.Plotter()\n",
    "engine.output[\"colors\"]= rgba_colors\n",
    " # Add the point cloud with a clip box, using the colors\n",
    "p.add_mesh_clip_box(engine.output, scalars=\"colors\", rgb=True)\n",
    "#p.add_mesh(engine.output, render_points_as_spheres=True, point_size=8, color='blue')\n",
    "\n",
    "# Add sliders\n",
    "# p.add_slider_widget(\n",
    "#     callback=lambda value: engine('scale', value),\n",
    "#     rng=[0.5, 2.0],\n",
    "#     value=1.0,\n",
    "#     title=\"Scale\",\n",
    "#     pointa=(0.025, 0.1),\n",
    "#     pointb=(0.31, 0.1),\n",
    "#     style='modern',\n",
    "# )\n",
    "p.add_slider_widget(\n",
    "    callback=lambda value: engine('rotate_x', value),\n",
    "    rng=[-180, 180],\n",
    "    value=0,\n",
    "    title=\"Rotate X\",\n",
    "    pointa=(0.025, 0.1),\n",
    "     pointb=(0.31, 0.1),\n",
    "    style='modern',\n",
    ")\n",
    "p.add_slider_widget(\n",
    "    callback=lambda value: engine('rotate_y', value),\n",
    "    rng=[-180, 180],\n",
    "    value=0,\n",
    "    title=\"Rotate Y\",\n",
    "    pointa=(0.35, 0.1),\n",
    "    pointb=(0.64, 0.1),\n",
    "    style='modern',\n",
    ")\n",
    "p.add_slider_widget(\n",
    "    callback=lambda value: engine('rotate_z', value),\n",
    "    rng=[-180, 180],\n",
    "    value=0,\n",
    "    title=\"Rotate Z\",\n",
    "    pointa=(0.67, 0.1),\n",
    "    pointb=(0.96, 0.1),\n",
    "    style='modern',\n",
    ")\n",
    "\n",
    "p.show()"
   ]
  },
  {
   "cell_type": "code",
   "execution_count": 112,
   "metadata": {},
   "outputs": [],
   "source": [
    "# Create a new point cloud with the selected points\n",
    "point_cloud[\"colors\"] = rgba_colors\n",
    "filtered_point_cloud = point_cloud.extract_points(p.box_clipped_meshes[0].cells)"
   ]
  },
  {
   "cell_type": "code",
   "execution_count": 113,
   "metadata": {},
   "outputs": [
    {
     "data": {
      "text/plain": [
       "(array([0, 0, 0, 0, 0, 0, 0, 0, 0, 0, 0, 0, 0, 0, 0, 0, 0, 0, 0, 0, 0, 0,\n",
       "        0, 0, 0, 0, 0, 0, 0, 0, 0, 0, 0, 0, 0, 0, 0, 0, 0, 0, 0, 0, 0, 0,\n",
       "        0, 0, 0, 0, 0, 0, 0, 0, 0, 0, 0, 0, 0, 0, 0, 0, 0, 0, 0, 0, 0, 0,\n",
       "        0, 0, 0, 0, 0, 0, 0, 0, 0, 0, 0, 0, 0, 0, 0, 0, 0, 0, 0, 0, 0, 0,\n",
       "        0, 0, 0, 0, 0, 0, 0, 0, 0, 0, 0, 0, 0, 0, 0, 0, 0, 0, 0, 0, 0, 0]),\n",
       " array([   3405,   11906,   13546,   19205,   23339,   24429,   26051,\n",
       "          27640,   35031,   36691,   41058,   45891,   48520,   51853,\n",
       "          52484,   52499,   54141,   59123,   64157,   65848,   69898,\n",
       "          71563,   74107,   75928,   87511,   99922,  110697,  112193,\n",
       "         116467,  118003,  119877,  124739,  128781,  132090,  147873,\n",
       "         152886,  166954,  170439,  172106,  183457,  193422,  206694,\n",
       "         209153,  210838,  218322,  235745,  243255,  253940,  267293,\n",
       "         270657,  271354,  278895,  292155,  298745,  299594,  304620,\n",
       "         309483,  309536,  311267,  312031,  313723,  313766,  319431,\n",
       "         322859,  322880,  323668,  353646,  359396,  370230,  370243,\n",
       "         372792,  375290,  377751, 1206089, 1207768, 1210272, 1211152,\n",
       "        1211957, 1211966, 1212819, 1223728, 1228798, 1228818, 1233029,\n",
       "        1233931, 1246572, 1247421, 1248250, 1249914, 1403303, 1405780,\n",
       "        1414901, 1419044, 1421525, 1423988, 1423995, 1428983, 1430640,\n",
       "        1431471, 1435627, 1438109, 1446424, 1447250, 1448066, 1448078,\n",
       "        1453874, 1455536, 1459690, 1462999, 1471276]))"
      ]
     },
     "execution_count": 113,
     "metadata": {},
     "output_type": "execute_result"
    }
   ],
   "source": [
    "np.where(classes==65)"
   ]
  },
  {
   "cell_type": "code",
   "execution_count": 114,
   "metadata": {},
   "outputs": [
    {
     "data": {
      "text/plain": [
       "(1934796, 3)"
      ]
     },
     "execution_count": 114,
     "metadata": {},
     "output_type": "execute_result"
    }
   ],
   "source": [
    "point_cloud.points.shape"
   ]
  },
  {
   "cell_type": "code",
   "execution_count": 115,
   "metadata": {},
   "outputs": [
    {
     "ename": "IndexError",
     "evalue": "index 3405 is out of bounds for axis 1 with size 3",
     "output_type": "error",
     "traceback": [
      "\u001b[0;31m---------------------------------------------------------------------------\u001b[0m",
      "\u001b[0;31mIndexError\u001b[0m                                Traceback (most recent call last)",
      "Cell \u001b[0;32mIn[115], line 2\u001b[0m\n\u001b[1;32m      1\u001b[0m \u001b[38;5;66;03m# water points are classified as 65\u001b[39;00m\n\u001b[0;32m----> 2\u001b[0m water_points \u001b[38;5;241m=\u001b[39m \u001b[43mpoint_cloud\u001b[49m\u001b[38;5;241;43m.\u001b[39;49m\u001b[43mpoints\u001b[49m\u001b[43m[\u001b[49m\u001b[43mnp\u001b[49m\u001b[38;5;241;43m.\u001b[39;49m\u001b[43mwhere\u001b[49m\u001b[43m(\u001b[49m\u001b[43mclasses\u001b[49m\u001b[43m \u001b[49m\u001b[38;5;241;43m==\u001b[39;49m\u001b[43m \u001b[49m\u001b[38;5;241;43m65\u001b[39;49m\u001b[43m)\u001b[49m\u001b[43m]\u001b[49m\n\u001b[1;32m      3\u001b[0m \u001b[38;5;66;03m#water_colors = rgba_colors[np.where(classes == 65)]\u001b[39;00m\n\u001b[1;32m      4\u001b[0m water_cloud \u001b[38;5;241m=\u001b[39m pv\u001b[38;5;241m.\u001b[39mPolyData(water_points)\n",
      "\u001b[0;31mIndexError\u001b[0m: index 3405 is out of bounds for axis 1 with size 3"
     ]
    }
   ],
   "source": [
    "# water points are classified as 65\n",
    "water_points = point_cloud.points[np.where(classes == 65)]\n",
    "#water_colors = rgba_colors[np.where(classes == 65)]\n",
    "water_cloud = pv.PolyData(water_points)\n",
    "#water_cloud['colors'] = water_colors\n",
    "# underwater points are classified as 66\n",
    "underwater_points = point_cloud.points[np.where(classes == 66)]\n",
    "#underwater_colors = rgba_colors[np.where(classes == 66)]\n",
    "underwater_cloud = pv.PolyData(underwater_points)\n",
    "#underwater_cloud['colors'] = underwater_colors"
   ]
  },
  {
   "cell_type": "code",
   "execution_count": 116,
   "metadata": {},
   "outputs": [
    {
     "data": {
      "application/vnd.jupyter.widget-view+json": {
       "model_id": "11975a26fae446c3823bc9732e0d1bab",
       "version_major": 2,
       "version_minor": 0
      },
      "text/plain": [
       "Widget(value='<iframe src=\"http://localhost:35371/index.html?ui=P_0x7c8997f11a90_4&reconnect=auto\" class=\"pyvi…"
      ]
     },
     "metadata": {},
     "output_type": "display_data"
    }
   ],
   "source": [
    "new_plotter = pv.Plotter()\n",
    "new_plotter.add_mesh(filtered_point_cloud, show_edges=False, scalars=\"colors\", rgb=True)\n",
    "new_plotter.show()"
   ]
  },
  {
   "cell_type": "code",
   "execution_count": 117,
   "metadata": {},
   "outputs": [
    {
     "data": {
      "text/html": [
       "<table style='width: 100%;'><tr><th>Header</th><th>Data Arrays</th></tr><tr><td>\n",
       "<table style='width: 100%;'>\n",
       "<tr><th>UnstructuredGrid</th><th>Information</th></tr>\n",
       "<tr><td>N Cells</td><td>702991</td></tr>\n",
       "<tr><td>N Points</td><td>702991</td></tr>\n",
       "<tr><td>X Bounds</td><td>-9.169e+06, -9.168e+06</td></tr>\n",
       "<tr><td>Y Bounds</td><td>-7.090e+06, -7.089e+06</td></tr>\n",
       "<tr><td>Z Bounds</td><td>2.344e+03, 2.347e+03</td></tr>\n",
       "<tr><td>N Arrays</td><td>3</td></tr>\n",
       "</table>\n",
       "\n",
       "</td><td>\n",
       "<table style='width: 100%;'>\n",
       "<tr><th>Name</th><th>Field</th><th>Type</th><th>N Comp</th><th>Min</th><th>Max</th></tr>\n",
       "<tr><td><b>colors</b></td><td>Points</td><td>uint8</td><td>3</td><td>1.180e+02</td><td>2.220e+02</td></tr>\n",
       "<tr><td>vtkOriginalPointIds</td><td>Points</td><td>int64</td><td>1</td><td>1.000e+00</td><td>1.527e+06</td></tr>\n",
       "<tr><td>vtkOriginalCellIds</td><td>Cells</td><td>int64</td><td>1</td><td>1.000e+00</td><td>1.527e+06</td></tr>\n",
       "</table>\n",
       "\n",
       "</td></tr> </table>"
      ],
      "text/plain": [
       "UnstructuredGrid (0x7c89a036ce20)\n",
       "  N Cells:    702991\n",
       "  N Points:   702991\n",
       "  X Bounds:   -9.169e+06, -9.168e+06\n",
       "  Y Bounds:   -7.090e+06, -7.089e+06\n",
       "  Z Bounds:   2.344e+03, 2.347e+03\n",
       "  N Arrays:   3"
      ]
     },
     "execution_count": 117,
     "metadata": {},
     "output_type": "execute_result"
    }
   ],
   "source": [
    "filtered_point_cloud"
   ]
  },
  {
   "cell_type": "code",
   "execution_count": 118,
   "metadata": {},
   "outputs": [],
   "source": [
    "local_z_points = filtered_point_cloud.points[:,2]"
   ]
  },
  {
   "cell_type": "code",
   "execution_count": 119,
   "metadata": {},
   "outputs": [],
   "source": [
    "import numpy as np\n",
    "from sklearn.mixture import GaussianMixture\n",
    "\n",
    "def find_gaussian_components(data, max_components=10, threshold=1e-3):\n",
    "    \"\"\"\n",
    "    Quickly find the Gaussian distributions that compose a given distribution.\n",
    "    \n",
    "    Args:\n",
    "        data (np.ndarray): Input data (1D or 2D array).\n",
    "        max_components (int): Maximum number of components to test.\n",
    "        threshold (float): Minimum weight threshold to filter out negligible components.\n",
    "    \n",
    "    Returns:\n",
    "        dict: A dictionary containing the means, covariances, and weights of the Gaussian components.\n",
    "    \"\"\"\n",
    "    # Fit Gaussian Mixture Model (GMM)\n",
    "    gmm = GaussianMixture(n_components=max_components, random_state=42).fit(data.reshape(-1, 1))\n",
    "    \n",
    "    # Filter components with significant weights\n",
    "    significant_indices = gmm.weights_ > threshold\n",
    "    means = gmm.means_[significant_indices].flatten()\n",
    "    covariances = gmm.covariances_[significant_indices].flatten()\n",
    "    weights = gmm.weights_[significant_indices]\n",
    "\n",
    "    # sort by means in ascending order\n",
    "    sorted_indices = np.argsort(means)\n",
    "    means = means[sorted_indices]\n",
    "    covariances = covariances[sorted_indices]\n",
    "    weights = weights[sorted_indices]\n",
    "    \n",
    "    # Return significant components\n",
    "    return {\n",
    "        \"means\": means,\n",
    "        \"covariances\": covariances,\n",
    "        \"weights\": weights\n",
    "    }\n"
   ]
  },
  {
   "cell_type": "code",
   "execution_count": 120,
   "metadata": {},
   "outputs": [],
   "source": [
    "data = local_z_points"
   ]
  },
  {
   "cell_type": "code",
   "execution_count": 121,
   "metadata": {},
   "outputs": [],
   "source": [
    "components = find_gaussian_components(data, max_components=2, threshold=0.1)"
   ]
  },
  {
   "cell_type": "code",
   "execution_count": 122,
   "metadata": {},
   "outputs": [
    {
     "data": {
      "text/plain": [
       "{'means': array([2345.06584579]),\n",
       " 'covariances': array([0.00146309]),\n",
       " 'weights': array([0.97299392])}"
      ]
     },
     "execution_count": 122,
     "metadata": {},
     "output_type": "execute_result"
    }
   ],
   "source": [
    "components"
   ]
  },
  {
   "cell_type": "code",
   "execution_count": 123,
   "metadata": {},
   "outputs": [],
   "source": [
    "def find_percentile_1_50_99(mean, covariance):\n",
    "    \"\"\"\n",
    "    Find the 1st, 50th, and 99th percentiles of a Gaussian distribution.\n",
    "    \n",
    "    Args:\n",
    "        mean (float): Mean of the Gaussian distribution.\n",
    "        covariance (float): Covariance of the Gaussian distribution.\n",
    "        weight (float): Weight of the Gaussian distribution.\n",
    "    \n",
    "    Returns:\n",
    "        tuple: The 1st, 50th, and 99th percentiles.\n",
    "    \"\"\"\n",
    "    # Calculate the standard deviation\n",
    "    std = np.sqrt(covariance)\n",
    "    \n",
    "    # Calculate the percentiles\n",
    "    p1 = mean - 2.33 * std\n",
    "    p2 = mean\n",
    "    p3 = mean + 2.33 * std\n",
    "    \n",
    "    return p1, p2, p3"
   ]
  },
  {
   "cell_type": "code",
   "execution_count": 124,
   "metadata": {},
   "outputs": [],
   "source": [
    "upper_index = np.argmax(components['means'])\n",
    "upper_point = components['means'][upper_index]\n",
    "upper_covariance = components['covariances'][upper_index]\n",
    "upper_percentiles = find_percentile_1_50_99(upper_point, upper_covariance)\n",
    "lower_index = np.argmin(components['means'])\n",
    "lower_point = components['means'][lower_index]\n",
    "lower_covariance = components['covariances'][lower_index]\n",
    "lower_percentiles = find_percentile_1_50_99(lower_point, lower_covariance)"
   ]
  },
  {
   "cell_type": "code",
   "execution_count": 125,
   "metadata": {},
   "outputs": [
    {
     "data": {
      "text/plain": [
       "((2344.9767224280467, 2345.0658457901823, 2345.154969152318),\n",
       " (2344.9767224280467, 2345.0658457901823, 2345.154969152318))"
      ]
     },
     "execution_count": 125,
     "metadata": {},
     "output_type": "execute_result"
    }
   ],
   "source": [
    "upper_percentiles, lower_percentiles"
   ]
  },
  {
   "cell_type": "code",
   "execution_count": 126,
   "metadata": {},
   "outputs": [
    {
     "data": {
      "text/plain": [
       "(array([7.9000e+01, 6.2320e+03, 6.0906e+05, 8.3633e+04, 3.3980e+03,\n",
       "        5.8400e+02, 1.0000e+00, 1.0000e+00, 1.0000e+00, 2.0000e+00]),\n",
       " array([2344.367   , 2344.617125, 2344.86725 , 2345.117375, 2345.3675  ,\n",
       "        2345.617625, 2345.86775 , 2346.117875, 2346.368   , 2346.618125,\n",
       "        2346.86825 ]),\n",
       " <BarContainer object of 10 artists>)"
      ]
     },
     "execution_count": 126,
     "metadata": {},
     "output_type": "execute_result"
    },
    {
     "data": {
      "image/png": "[encoded data removed]",
      "text/plain": [
       "<Figure size 640x480 with 1 Axes>"
      ]
     },
     "metadata": {},
     "output_type": "display_data"
    }
   ],
   "source": [
    "plt.hist(data)"
   ]
  },
  {
   "cell_type": "code",
   "execution_count": 158,
   "metadata": {},
   "outputs": [
    {
     "name": "stdout",
     "output_type": "stream",
     "text": [
      "2344.9767224280467 2345.0658457901823 2345.154969152318\n",
      "2344.9767224280467 2345.0658457901823 2345.154969152318\n"
     ]
    },
    {
     "data": {
      "image/png": "[encoded data removed]",
      "text/plain": [
       "<Figure size 800x500 with 1 Axes>"
      ]
     },
     "metadata": {},
     "output_type": "display_data"
    }
   ],
   "source": [
    "x = np.linspace(data.min(), data.max(), 1000).reshape(-1, 1)\n",
    "plt.figure(figsize=(8, 5))\n",
    "plt.hist(data, bins=100, density=True, alpha=0.5, label='Data')\n",
    "for i, (mean, covariance, weight) in enumerate(zip(components['means'], components['covariances'], components['weights'])):\n",
    "    gaussian = weight * (1 / np.sqrt(2 * np.pi * covariance)) * np.exp(-0.5 * ((x - mean) ** 2) / covariance)\n",
    "    plt.plot(x, gaussian, label=f'Mean: {mean:.2f}')\n",
    "# plot vlines in the 1st, 50th, and 99th percentiles of the upper and lower components\n",
    "#plt.axvline(upper_percentiles[0], color='orange', linestyle='dashed', linewidth=1)\n",
    "#plt.axvline(upper_percentiles[1], color='orange', linestyle='dashed', linewidth=1)\n",
    "plt.axvline(upper_percentiles[2], color='g', linestyle='dashed', linewidth=1)\n",
    "plt.axvline(lower_percentiles[0], color='orange', linestyle='dashed', linewidth=1)\n",
    "plt.axvline(lower_percentiles[1], color='orange', linestyle='dashed', linewidth=1)\n",
    "plt.axvline(lower_percentiles[2], color='orange', linestyle='dashed', linewidth=1)\n",
    "print(upper_percentiles[0], upper_percentiles[1], upper_percentiles[2])\n",
    "print(lower_percentiles[0], lower_percentiles[1], lower_percentiles[2])\n",
    "plt.title(\"Gaussian Components\")\n",
    "plt.xlabel(\"Z values\")\n",
    "plt.ylabel(\"Density\")\n",
    "plt.legend()\n",
    "plt.show()"
   ]
  },
  {
   "cell_type": "code",
   "execution_count": 27,
   "metadata": {},
   "outputs": [
    {
     "name": "stdout",
     "output_type": "stream",
     "text": [
      "Difference between the 99th percentile of the upper and 1st percentile of the lower:  166.32 cm\n",
      "Difference between the 99th percentile of the upper and 50th percentile of the lower:  94.47 cm\n",
      "Difference between the 99th percentile of the upper and 99th percentile of the lower:  22.62 cm\n",
      "Mean:  58.55 cm\n"
     ]
    }
   ],
   "source": [
    "# get the diff between the 99th percentile of the upper and 1st percentile of the lower\n",
    "diff_1 = upper_percentiles[2] - lower_percentiles[0]\n",
    "print(\"Difference between the 99th percentile of the upper and 1st percentile of the lower: \", np.round(diff_1*100, 2), \"cm\")\n",
    "# get the diff between the 99th percentile of the upper and 50th percentile of the lower\n",
    "diff_2 = upper_percentiles[2] - lower_percentiles[1]\n",
    "print(\"Difference between the 99th percentile of the upper and 50th percentile of the lower: \", np.round(diff_2*100, 2), \"cm\")\n",
    "# get the diff between the 99th percentile of the upper and 99th percentile of the lower\n",
    "diff_3 = upper_percentiles[2] - lower_percentiles[2]\n",
    "print(\"Difference between the 99th percentile of the upper and 99th percentile of the lower: \", np.round(diff_3*100, 2), \"cm\")\n",
    "mean = (diff_2 + diff_3) / 2\n",
    "print(\"Mean: \", np.round(mean*100, 2), \"cm\")"
   ]
  },
  {
   "cell_type": "code",
   "execution_count": 111,
   "metadata": {},
   "outputs": [
    {
     "data": {
      "text/plain": [
       "0.0"
      ]
     },
     "execution_count": 111,
     "metadata": {},
     "output_type": "execute_result"
    }
   ],
   "source": [
    "(upper_percentiles[2]-lower_percentiles[2])*100"
   ]
  },
  {
   "cell_type": "code",
   "execution_count": null,
   "metadata": {},
   "outputs": [],
   "source": []
  },
  {
   "cell_type": "code",
   "execution_count": null,
   "metadata": {},
   "outputs": [],
   "source": []
  }
 ],
 "metadata": {
  "kernelspec": {
   "display_name": "venv",
   "language": "python",
   "name": "python3"
  },
  "language_info": {
   "codemirror_mode": {
    "name": "ipython",
    "version": 3
   },
   "file_extension": ".py",
   "mimetype": "text/x-python",
   "name": "python",
   "nbconvert_exporter": "python",
   "pygments_lexer": "ipython3",
   "version": "3.12.3"
  }
 },
 "nbformat": 4,
 "nbformat_minor": 2
}
